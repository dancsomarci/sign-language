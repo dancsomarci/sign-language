{
 "cells": [
  {
   "cell_type": "markdown",
   "id": "670c23e9",
   "metadata": {},
   "source": [
    "# Dependencies"
   ]
  },
  {
   "cell_type": "code",
   "execution_count": 9,
   "id": "3357796e",
   "metadata": {
    "scrolled": true
   },
   "outputs": [],
   "source": [
    "%%capture\n",
    "!pip install pandas\n",
    "!pip install pyarrow\n",
    "!pip install tensorflow\n",
    "!pip install protobuf==3.20.*\n",
    "!pip install mediapipe==0.9.0.1"
   ]
  },
  {
   "cell_type": "code",
   "execution_count": 10,
   "id": "1afa879d",
   "metadata": {},
   "outputs": [],
   "source": [
    "import os\n",
    "import json\n",
    "import shutil\n",
    "import random\n",
    "import matplotlib\n",
    "import numpy as np\n",
    "from itertools import chain\n",
    "from collections import deque\n",
    "from tqdm.notebook import tqdm\n",
    "import matplotlib.pyplot as plt\n",
    "from collections import Counter\n",
    "from matplotlib import animation, rc\n",
    "from IPython.display import display, Image\n",
    "\n",
    "import cv2\n",
    "import pandas as pd\n",
    "import mediapipe as mp\n",
    "import tensorflow as tf\n",
    "from tensorflow import keras\n",
    "import pyarrow.parquet as pq\n",
    "from tensorflow.keras import layers\n",
    "from mediapipe.framework.formats import landmark_pb2"
   ]
  },
  {
   "cell_type": "code",
   "execution_count": 11,
   "id": "815f7292-d5cd-4eea-aef2-81a594138520",
   "metadata": {},
   "outputs": [
    {
     "name": "stdout",
     "output_type": "stream",
     "text": [
      "Python 3.9.13\n",
      "TensorFlow v2.14.0\n",
      "Mediapipe v0.9.0.1\n"
     ]
    }
   ],
   "source": [
    "!python --version\n",
    "print(\"TensorFlow v\" + tf.__version__)\n",
    "print(\"Mediapipe v\" + mp.__version__)"
   ]
  },
  {
   "cell_type": "code",
   "execution_count": 12,
   "id": "336326cf",
   "metadata": {},
   "outputs": [],
   "source": [
    "seed = 42\n",
    "random.seed(seed)\n",
    "np.random.seed(seed)\n",
    "tf.random.set_seed(seed)\n",
    "cv2.setRNGSeed(seed)"
   ]
  },
  {
   "cell_type": "markdown",
   "id": "e2dff822-75bc-493e-b175-14481c2abc76",
   "metadata": {},
   "source": [
    "# Fetch from TfRecords"
   ]
  },
  {
   "cell_type": "code",
   "execution_count": 13,
   "id": "6b4d1354-adc7-4073-a64b-3c72761e2e0c",
   "metadata": {},
   "outputs": [
    {
     "name": "stdout",
     "output_type": "stream",
     "text": [
      "List of 68 TFRecord files.\n"
     ]
    }
   ],
   "source": [
    "PATH_KAGGLE_DS = \"kaggle_dataset\"\n",
    "dataset_df = pd.read_csv(os.path.join(PATH_KAGGLE_DS, \"train.csv\"))\n",
    "PATH_TFRECORD_DS = os.path.join(PATH_KAGGLE_DS, \"train_tfrecords\")\n",
    "tf_records = dataset_df.file_id.map(lambda x: os.path.join(PATH_TFRECORD_DS, f\"{x}.tfrecord\")).unique()\n",
    "print(f\"List of {len(tf_records)} TFRecord files.\")"
   ]
  },
  {
   "cell_type": "code",
   "execution_count": 14,
   "id": "0f496051-1067-479f-8b5f-3aedbd4d3303",
   "metadata": {},
   "outputs": [
    {
     "data": {
      "text/plain": [
       "['x_right_hand_0',\n",
       " 'x_right_hand_1',\n",
       " 'x_right_hand_2',\n",
       " 'x_right_hand_3',\n",
       " 'x_right_hand_4',\n",
       " 'x_right_hand_5',\n",
       " 'x_right_hand_6',\n",
       " 'x_right_hand_7',\n",
       " 'x_right_hand_8',\n",
       " 'x_right_hand_9']"
      ]
     },
     "execution_count": 14,
     "metadata": {},
     "output_type": "execute_result"
    }
   ],
   "source": [
    "with open(os.path.join(PATH_TFRECORD_DS, \"feature_columns.json\"), 'r') as f:\n",
    "    json_str = f.read()\n",
    "FEATURE_COLUMNS = json.loads(json_str)\n",
    "FEATURE_COLUMNS[:10]"
   ]
  },
  {
   "cell_type": "code",
   "execution_count": 15,
   "id": "0a432491-d637-4216-812b-7d8da9366295",
   "metadata": {},
   "outputs": [],
   "source": [
    "# These points represent the hands, elbows, and shoulders.\n",
    "LPOSE = [13, 15, 17, 19, 21]\n",
    "RPOSE = [14, 16, 18, 20, 22]\n",
    "\n",
    "# Facial information isn't necessary, but the nose will serve as a midpoint for normalizing the data, as it is usually located in the middle of the frame.\n",
    "FPOSE = [0] # Nose as midpoint\n",
    "\n",
    "# Collecting the indices of certain important/distinct sets of features.\n",
    "# This can be beneficial during the preprocessing step.\n",
    "RHAND_IDX = [i for i, col in enumerate(FEATURE_COLUMNS)  if \"right\" in col]\n",
    "LHAND_IDX = [i for i, col in enumerate(FEATURE_COLUMNS)  if  \"left\" in col]\n",
    "RPOSE_IDX = [i for i, col in enumerate(FEATURE_COLUMNS)  if  \"pose\" in col and int(col.split(\"_\")[-1]) in RPOSE]\n",
    "LPOSE_IDX = [i for i, col in enumerate(FEATURE_COLUMNS)  if  \"pose\" in col and int(col.split(\"_\")[-1]) in LPOSE]\n",
    "MID_POINT_IDX = [i for i, col in enumerate(FEATURE_COLUMNS)  if  \"pose\" in col and int(col.split(\"_\")[-1]) == 0] # Nose"
   ]
  },
  {
   "cell_type": "code",
   "execution_count": 16,
   "id": "a5699c6a-6b6e-4643-8a54-62183c475823",
   "metadata": {},
   "outputs": [],
   "source": [
    "def decode_fn(record_bytes):\n",
    "    schema = {COL: tf.io.VarLenFeature(dtype=tf.float32) for COL in FEATURE_COLUMNS}\n",
    "    schema[\"phrase\"] = tf.io.FixedLenFeature([], dtype=tf.string)\n",
    "    features = tf.io.parse_single_example(record_bytes, schema)\n",
    "    phrase = features[\"phrase\"]\n",
    "    landmarks = ([tf.sparse.to_dense(features[COL]) for COL in FEATURE_COLUMNS])\n",
    "    # Transpose to maintain the original shape of landmarks data.\n",
    "    landmarks = tf.transpose(landmarks)\n",
    "    \n",
    "    return landmarks, phrase"
   ]
  },
  {
   "cell_type": "code",
   "execution_count": 17,
   "id": "3895dc76-d15a-49a7-888a-31c5f92ec655",
   "metadata": {},
   "outputs": [],
   "source": [
    "# The default mapping that came with the dataset was changed:\n",
    "# padding is represented with the number 0\n",
    "# start_token is 60\n",
    "# end_token is 61\n",
    "with open (os.path.join(PATH_KAGGLE_DS, \"character_to_prediction_index.json\"), \"r\") as f:\n",
    "    char_to_num = json.load(f)\n",
    "    \n",
    "char_to_num = {c:char_to_num[c]+1 for c in char_to_num}\n",
    "\n",
    "# Add pad_token, start pointer and end pointer to the dict\n",
    "pad_token = 'P'\n",
    "pad_token_idx = 0\n",
    "char_to_num[pad_token] = pad_token_idx\n",
    "\n",
    "start_token = '<'\n",
    "start_token_idx = 60\n",
    "char_to_num[start_token] = start_token_idx\n",
    "\n",
    "end_token = '>'\n",
    "end_token_idx = 61\n",
    "char_to_num[end_token] = end_token_idx\n",
    "\n",
    "num_to_char = {j:i for i,j in char_to_num.items()}"
   ]
  },
  {
   "cell_type": "markdown",
   "id": "891424b9-95aa-478b-877b-5c99da8a8b26",
   "metadata": {},
   "source": [
    "## Preprocess phrase"
   ]
  },
  {
   "cell_type": "code",
   "execution_count": 18,
   "id": "f559ea97-8029-4754-af54-939aa7be587d",
   "metadata": {},
   "outputs": [],
   "source": [
    "table = tf.lookup.StaticHashTable(\n",
    "    initializer=tf.lookup.KeyValueTensorInitializer(\n",
    "        keys=list(char_to_num.keys()),\n",
    "        values=list(char_to_num.values()),\n",
    "    ),\n",
    "    default_value=tf.constant(-1),\n",
    "    name=\"tf_char_to_num\"\n",
    ")\n",
    "\n",
    "# Function to decode the characters and pad the phrases\n",
    "MAX_PHRASE_LEN = 31 + 2 # The start and end token take space as well\n",
    "def preprocess_phrase(phrase):\n",
    "    phrase = start_token + phrase + end_token\n",
    "    phrase = tf.strings.bytes_split(phrase)\n",
    "    phrase = table.lookup(phrase)\n",
    "    \n",
    "    max_len_plus = MAX_PHRASE_LEN + 1\n",
    "    amount_to_pad = max_len_plus - tf.shape(phrase)[0]\n",
    "    \n",
    "    if amount_to_pad > 0:\n",
    "        phrase = tf.pad(phrase, paddings=[[0, amount_to_pad]], mode = 'CONSTANT', constant_values = pad_token_idx)\n",
    "    else:\n",
    "        phrase = phrase[:max_len_plus]\n",
    "\n",
    "    return phrase"
   ]
  },
  {
   "cell_type": "markdown",
   "id": "dcbf3bba-a24b-453b-b47e-396045f03925",
   "metadata": {},
   "source": [
    "## Preprocess landmark A"
   ]
  },
  {
   "cell_type": "code",
   "execution_count": 19,
   "id": "a815e8c9-6f0d-4e8e-8500-aaacac83584c",
   "metadata": {},
   "outputs": [],
   "source": [
    "FRAME_LEN = 256\n",
    "def preprocess_landmark_a(x):\n",
    "    # Select distinct groups\n",
    "    rhand = tf.gather(x, RHAND_IDX, axis=1)\n",
    "    lhand = tf.gather(x, LHAND_IDX, axis=1)\n",
    "    rpose = tf.gather(x, RPOSE_IDX, axis=1)\n",
    "    lpose = tf.gather(x, LPOSE_IDX, axis=1)\n",
    "    \n",
    "    # Calculate how many unknown values there are for each hand\n",
    "    rnan_idx = tf.reduce_any(tf.math.is_nan(rhand), axis=1)\n",
    "    lnan_idx = tf.reduce_any(tf.math.is_nan(lhand), axis=1)\n",
    "    rnans = tf.math.count_nonzero(rnan_idx)\n",
    "    lnans = tf.math.count_nonzero(lnan_idx)\n",
    "    \n",
    "    # As fingerspelling gestures only use one hand, the model will only receive the dominant one. (=less NaN values)\n",
    "    # Also from the pose information, only the dominant side is needed.\n",
    "    is_right_hand = True\n",
    "    hand = rhand\n",
    "    pose = rpose\n",
    "    num_of_hand_lm = len(RHAND_IDX)\n",
    "    num_of_pose_lm = len(RPOSE_IDX)\n",
    "    if rnans > lnans:\n",
    "        is_right_hand = False\n",
    "        hand = lhand\n",
    "        pose = lpose\n",
    "        num_of_hand_lm = len(LHAND_IDX)\n",
    "        num_of_pose_lm = len(LPOSE_IDX)\n",
    "    \n",
    "    # Gather channels\n",
    "    hand_x = hand[:, 0*(num_of_hand_lm//3) : 1*(num_of_hand_lm//3)]\n",
    "    hand_y = hand[:, 1*(num_of_hand_lm//3) : 2*(num_of_hand_lm//3)]\n",
    "    hand_z = hand[:, 2*(num_of_hand_lm//3) : 3*(num_of_hand_lm//3)]\n",
    "    \n",
    "    # Flip the x axis if it's the left hand. (This makes it resemble the right hand more.)\n",
    "    if not is_right_hand:\n",
    "        hand_x = 1 - hand_x\n",
    "    \n",
    "    # Join along a new axis\n",
    "    hand = tf.concat([hand_x[..., tf.newaxis], hand_y[..., tf.newaxis], hand_z[..., tf.newaxis]], axis=-1) # (SEQ_LEN, LM_COUNT, 3)\n",
    "    mean = tf.math.reduce_mean(hand, axis=1)[:, tf.newaxis, :] # Mean and std along the first axis (across LM_COUNT)\n",
    "    std = tf.math.reduce_std(hand, axis=1)[:, tf.newaxis, :]\n",
    "    hand = (hand - mean) / std\n",
    "    \n",
    "    # The same for pose\n",
    "    pose_x = pose[:, 0*(num_of_pose_lm//3) : 1*(num_of_pose_lm//3)]\n",
    "    pose_y = pose[:, 1*(num_of_pose_lm//3) : 2*(num_of_pose_lm//3)]\n",
    "    pose_z = pose[:, 2*(num_of_pose_lm//3) : 3*(num_of_pose_lm//3)]\n",
    "    \n",
    "    if not is_right_hand:\n",
    "        pose_x = 1 - pose_x\n",
    "    \n",
    "    pose = tf.concat([pose_x[..., tf.newaxis], pose_y[..., tf.newaxis], pose_z[..., tf.newaxis]], axis=-1)\n",
    "    mean = tf.math.reduce_mean(pose, axis=1)[:, tf.newaxis, :]\n",
    "    std = tf.math.reduce_std(pose, axis=1)[:, tf.newaxis, :]\n",
    "    pose = (pose - mean) / std\n",
    "    \n",
    "    # Join the data\n",
    "    x = tf.concat([hand, pose], axis=1)\n",
    "    \n",
    "    # Replace NaN with 0.\n",
    "    x = tf.where(tf.math.is_nan(x), tf.zeros_like(x), x)\n",
    "    \n",
    "    if tf.shape(x)[0] < FRAME_LEN:\n",
    "        x = tf.pad(x, ([[0, FRAME_LEN-tf.shape(x)[0]], [0, 0], [0, 0]]))\n",
    "    else:\n",
    "        x = tf.image.resize(x, (FRAME_LEN, tf.shape(x)[1]))\n",
    "    \n",
    "    # x.shape == (FRAME_LEN, FEATURE_COUNT, 3)\n",
    "    \n",
    "    # Reshape to (FRAME_LEN, FEATURE_COUNT*3 == num_of_hand_lm + num_of_pose_lm)\n",
    "    x = tf.reshape(x, (FRAME_LEN, num_of_hand_lm + num_of_pose_lm))\n",
    "    \n",
    "    return x"
   ]
  },
  {
   "cell_type": "markdown",
   "id": "4e3715de-25ce-4014-b0f5-8ecd02dfd538",
   "metadata": {
    "jp-MarkdownHeadingCollapsed": true
   },
   "source": [
    "## Preprocess landmark B"
   ]
  },
  {
   "cell_type": "code",
   "execution_count": 12,
   "id": "50f64ec3-d8fa-4f7d-aabf-c74c93acebc2",
   "metadata": {},
   "outputs": [],
   "source": [
    "FRAME_LEN = 256\n",
    "\n",
    "def tf_nan_mean(x, axis=0, keepdims=False):\n",
    "    return tf.reduce_sum(tf.where(tf.math.is_nan(x), tf.zeros_like(x), x), axis=axis, keepdims=keepdims) / tf.reduce_sum(tf.where(tf.math.is_nan(x), tf.zeros_like(x), tf.ones_like(x)), axis=axis, keepdims=keepdims)\n",
    "\n",
    "def tf_nan_std(x, center=None, axis=0, keepdims=False):\n",
    "    if center is None:\n",
    "        center = tf_nan_mean(x, axis=axis,  keepdims=True)\n",
    "    d = x - center\n",
    "    return tf.math.sqrt(tf_nan_mean(d * d, axis=axis, keepdims=keepdims))\n",
    "   \n",
    "def preprocess_landmark_b(x):\n",
    "    # Select distinct groups\n",
    "    rhand = tf.gather(x, RHAND_IDX, axis=1)\n",
    "    lhand = tf.gather(x, LHAND_IDX, axis=1)\n",
    "    rpose = tf.gather(x, RPOSE_IDX, axis=1)\n",
    "    lpose = tf.gather(x, LPOSE_IDX, axis=1)\n",
    "    nose = tf.gather(x, MID_POINT_IDX, axis=1)\n",
    "    \n",
    "    # Calculate how many unknown values there are for each hand\n",
    "    rnan_idx = tf.reduce_any(tf.math.is_nan(rhand), axis=1)\n",
    "    lnan_idx = tf.reduce_any(tf.math.is_nan(lhand), axis=1)\n",
    "    rnans = tf.math.count_nonzero(rnan_idx)\n",
    "    lnans = tf.math.count_nonzero(lnan_idx)\n",
    "    \n",
    "    # As fingerspelling gestures only use one hand, the model will only receive the dominant one. (=less NaN values)\n",
    "    # Also from the pose information, only the dominant side is needed.\n",
    "    is_right_hand = True\n",
    "    hand = rhand\n",
    "    pose = rpose\n",
    "    num_of_hand_lm = len(RHAND_IDX)\n",
    "    num_of_pose_lm = len(RPOSE_IDX)\n",
    "    if rnans > lnans:\n",
    "        is_right_hand = False\n",
    "        hand = lhand\n",
    "        pose = lpose\n",
    "        num_of_hand_lm = len(LHAND_IDX)\n",
    "        num_of_pose_lm = len(LPOSE_IDX)\n",
    "    \n",
    "    # Gather channels\n",
    "    hand_x = hand[:, 0*(num_of_hand_lm//3) : 1*(num_of_hand_lm//3)]\n",
    "    hand_y = hand[:, 1*(num_of_hand_lm//3) : 2*(num_of_hand_lm//3)]\n",
    "    hand_z = hand[:, 2*(num_of_hand_lm//3) : 3*(num_of_hand_lm//3)]\n",
    "    pose_x = pose[:, 0*(num_of_pose_lm//3) : 1*(num_of_pose_lm//3)]\n",
    "    pose_y = pose[:, 1*(num_of_pose_lm//3) : 2*(num_of_pose_lm//3)]\n",
    "    pose_z = pose[:, 2*(num_of_pose_lm//3) : 3*(num_of_pose_lm//3)]\n",
    "    nose_x = nose[:, 0 : 1]\n",
    "    nose_y = nose[:, 1 : 2]\n",
    "    nose_z = nose[:, 2 : 3]\n",
    "    # Combine all x, y, z coordinates\n",
    "    combined_x = tf.concat([nose_x, hand_x, pose_x], axis=-1)\n",
    "    combined_y = tf.concat([nose_y, hand_y, pose_y], axis=-1)\n",
    "    combined_z = tf.concat([nose_z, hand_z, pose_z], axis=-1)\n",
    "    \n",
    "    # Flip the x axis if it's the left hand. (This makes it resemble the right hand more.)\n",
    "    if not is_right_hand:\n",
    "        hand_x = 1 - hand_x\n",
    "    # Join along a new axis\n",
    "    x = tf.concat([combined_x[..., tf.newaxis], combined_y[..., tf.newaxis], combined_z[..., tf.newaxis]], axis=-1) # (SEQ_LEN, LM_COUNT, 3)\n",
    "    # x.shape == (T, P, C)\n",
    "    # N: Batch size -> 1 for now\n",
    "    # T: Sequence length\n",
    "    # P: Number of points (or landmarks)\n",
    "    # C: Number of channels (features) per point\n",
    "    \n",
    "    x = x[None,...] # x.shape == (1, T, P, C)\n",
    "    \n",
    "    # Mean of midpoints (nose) through timesteps\n",
    "    mean = tf_nan_mean(tf.gather(x, [0], axis=2), axis=[1,2], keepdims=True)\n",
    "    mean = tf.where(tf.math.is_nan(mean), tf.constant(0.5,x.dtype), mean)\n",
    "    # x.shape == (N, 1, 1, C)\n",
    "    \n",
    "    std = tf_nan_std(x, center=mean, axis=[1,2], keepdims=True)\n",
    "    # std.shape == (N, 1, 1, C)\n",
    "    \n",
    "    x = (x - mean)/std\n",
    "    # x.shape == (N, T, P, C)\n",
    "\n",
    "    # Limit seq_len\n",
    "    x = x[:,:FRAME_LEN]\n",
    "    seq_length = tf.shape(x)[1]\n",
    "    x = x[...,:2]\n",
    "    # x.shape == (N, T, P, 2)\n",
    "\n",
    "    # Calc differences between consequtive frames and with skipping 1 in between\n",
    "    dx = tf.cond(tf.shape(x)[1]>1,lambda:tf.pad(x[:,1:] - x[:,:-1], [[0,0],[0,1],[0,0],[0,0]]),lambda:tf.zeros_like(x))\n",
    "    # dx.shape == (N, T, P, 2)\n",
    "    \n",
    "    x = tf.concat([\n",
    "        tf.reshape(x, (-1,seq_length,2*tf.shape(x)[2])),\n",
    "        tf.reshape(dx, (-1,seq_length,2*tf.shape(dx)[2])),\n",
    "    ], axis = -1)\n",
    "    # x.shape == (N, T, features) where T <= FRAME_LEN\n",
    "    \n",
    "    # Replace NaN values with zeros\n",
    "    x = tf.where(tf.math.is_nan(x),tf.constant(0.,x.dtype),x)\n",
    "\n",
    "    x = x[0] # x.shape == (T, features)\n",
    "    \n",
    "    if tf.shape(x)[0] < FRAME_LEN:\n",
    "        x = tf.pad(x, [[0, FRAME_LEN-tf.shape(x)[0]], [0, 0]])\n",
    "\n",
    "    # x.shape == (FRAME_LEN, features)\n",
    "    \n",
    "    return x"
   ]
  },
  {
   "cell_type": "markdown",
   "id": "cc2d31ae-9fce-4344-a577-c87dcc0004fe",
   "metadata": {},
   "source": [
    "## Combined preprocessing for lm and phrase"
   ]
  },
  {
   "cell_type": "code",
   "execution_count": 20,
   "id": "2b7f6c7c-e242-499a-80f6-b1d70135f936",
   "metadata": {},
   "outputs": [],
   "source": [
    "def preprocess(landmark, phrase):\n",
    "    phrase = preprocess_phrase(phrase)\n",
    "    return (preprocess_landmark_a(landmark), phrase[:-1]), phrase[1:] # Shifted phrase for encoder-decoder architecture"
   ]
  },
  {
   "cell_type": "markdown",
   "id": "f08e383e-6495-476f-bdc4-e8cb07f8a0d5",
   "metadata": {},
   "source": [
    "## Create TFDataset"
   ]
  },
  {
   "cell_type": "code",
   "execution_count": 21,
   "id": "4e588aba-02b0-4dce-872b-890743689447",
   "metadata": {},
   "outputs": [],
   "source": [
    "batch_size = 32\n",
    "train_len = int(0.8 * len(tf_records))\n",
    "\n",
    "def get_dataset(tfrecords, batch_size=1, repeat=False, shuffle=False, drop_remainder=False, cache=False):\n",
    "    ds = tf.data.TFRecordDataset(tf_records)\n",
    "    ds = ds.map(decode_fn, tf.data.AUTOTUNE)\n",
    "    # Note: preprocessing can happen before and after the batching (if you can preprocess the whole batch at once to save computation time)\n",
    "    ds = ds.map(preprocess, tf.data.AUTOTUNE)\n",
    "    \n",
    "    if repeat: \n",
    "        ds = ds.repeat()\n",
    "    \n",
    "    if shuffle:\n",
    "        ds = ds.shuffle(shuffle)\n",
    "        options = tf.data.Options()\n",
    "        options.experimental_deterministic = (False)\n",
    "        ds = ds.with_options(options)\n",
    "\n",
    "    if batch_size > 1:\n",
    "        # There's also a padded_batch version of this function\n",
    "        ds = ds.batch(batch_size, drop_remainder=drop_remainder)\n",
    "        \n",
    "    ds = ds.prefetch(tf.data.AUTOTUNE)\n",
    "\n",
    "    # If the system doesn't have enough RAM caching might slow down the process\n",
    "    if cache:\n",
    "        ds = ds.cache()\n",
    "    \n",
    "    return ds\n",
    "\n",
    "train_ds = get_dataset(tf_records[:train_len], batch_size=batch_size, cache=True)\n",
    "valid_ds = get_dataset(tf_records[train_len:], batch_size=batch_size, cache=True)"
   ]
  },
  {
   "cell_type": "code",
   "execution_count": 22,
   "id": "5523cc5e",
   "metadata": {},
   "outputs": [
    {
     "name": "stdout",
     "output_type": "stream",
     "text": [
      "Training Data:\n",
      "\n",
      "Saved shapes:\n",
      "lm_shape: 78\n",
      "phrase_shape: 32\n",
      "----------------------------------------\n",
      "\n",
      "Encoder input - first in batch (Landmarks:)\n",
      "<class 'tensorflow.python.framework.ops.EagerTensor'>\n",
      "(32, 256, 78)\n",
      "tf.Tensor(\n",
      "[[-0.27655613  1.5076838   2.3224409  ...  0.86484635 -0.640369\n",
      "  -0.31775153]\n",
      " [ 0.          0.          0.         ...  0.9932173  -0.4573373\n",
      "  -0.3150256 ]\n",
      " [ 0.          0.          0.         ...  0.8487494  -0.6870108\n",
      "  -0.31365472]\n",
      " ...\n",
      " [ 0.          0.          0.         ...  0.          0.\n",
      "   0.        ]\n",
      " [ 0.          0.          0.         ...  0.          0.\n",
      "   0.        ]\n",
      " [ 0.          0.          0.         ...  0.          0.\n",
      "   0.        ]], shape=(256, 78), dtype=float32)\n",
      "----------------------------------------\n",
      "\n",
      "Decoder input (Context):\n",
      "(32, 33)\n",
      "tf.Tensor(\n",
      "[60 19  1 35 50 37 37 43 40 47 53 51 37 61  0  0  0  0  0  0  0  0  0  0\n",
      "  0  0  0  0  0  0  0  0  0], shape=(33,), dtype=int32)\n",
      "----------------------------------------\n",
      "\n",
      "Model target output (Phrase):\n",
      "(32, 33)\n",
      "tf.Tensor(\n",
      "[19  1 35 50 37 37 43 40 47 53 51 37 61  0  0  0  0  0  0  0  0  0  0  0\n",
      "  0  0  0  0  0  0  0  0  0], shape=(33,), dtype=int32)\n",
      "----------------------------------------\n"
     ]
    }
   ],
   "source": [
    "lm_shape = None\n",
    "phrase_shape = None\n",
    "\n",
    "# Create an iterator for the train and valid datasets\n",
    "train_iterator = iter(train_ds)\n",
    "\n",
    "# Print data points from the training dataset\n",
    "print(\"Training Data:\\n\")\n",
    "(landmarks, context), phrase = next(train_iterator)\n",
    "\n",
    "# Save shapes\n",
    "lm_shape = landmarks.shape[2]\n",
    "phrase_shape = phrase.shape[0]\n",
    "print(\"Saved shapes:\")\n",
    "print(f\"lm_shape: {lm_shape}\")\n",
    "print(f\"phrase_shape: {phrase_shape}\")\n",
    "print(\"-\" * 40)\n",
    "print()\n",
    "\n",
    "print(\"Encoder input - first in batch (Landmarks:)\")\n",
    "print(type(landmarks))\n",
    "print(landmarks.shape)\n",
    "print(landmarks[0])\n",
    "print(\"-\" * 40)\n",
    "print()\n",
    "\n",
    "print(\"Decoder input (Context):\")\n",
    "print(context.shape)\n",
    "print(context[0])\n",
    "print(\"-\" * 40)\n",
    "print()\n",
    "\n",
    "print(\"Model target output (Phrase):\")\n",
    "print(phrase.shape)\n",
    "print(phrase[0])\n",
    "print(\"-\" * 40)"
   ]
  },
  {
   "cell_type": "markdown",
   "id": "4ee33612-effd-47b9-8409-e4640ed4da80",
   "metadata": {},
   "source": [
    "# Model creation"
   ]
  },
  {
   "cell_type": "markdown",
   "id": "37404a62-14c6-4a6b-9edb-7976811a8ebf",
   "metadata": {},
   "source": [
    "## Common elements"
   ]
  },
  {
   "cell_type": "code",
   "execution_count": 23,
   "id": "eb1091fd-6869-48f7-85d5-2e541705d3d6",
   "metadata": {},
   "outputs": [],
   "source": [
    "def positional_encoding(length, depth):\n",
    "    depth = depth/2\n",
    "\n",
    "    positions = np.arange(length)[:, np.newaxis]     # (seq, 1)\n",
    "    depths = np.arange(depth)[np.newaxis, :]/depth   # (1, depth)\n",
    "    \n",
    "    angle_rates = 1 / (10000**depths)         # (1, depth)\n",
    "    angle_rads = positions * angle_rates      # (pos, depth)\n",
    "\n",
    "    pos_encoding = np.concatenate(\n",
    "        [np.sin(angle_rads), np.cos(angle_rads)],\n",
    "        axis=-1) \n",
    "\n",
    "    return tf.cast(pos_encoding, dtype=tf.float32)\n",
    "\n",
    "class PositionalTokenEmbedding(tf.keras.layers.Layer):\n",
    "    def __init__(self, vocab_size, d_model, max_future_input_size):\n",
    "        super().__init__()\n",
    "        self.d_model = d_model\n",
    "        self.embedding = tf.keras.layers.Embedding(vocab_size, d_model, mask_zero=True)\n",
    "        self.pos_encoding = positional_encoding(length=max_future_input_size, depth=d_model)\n",
    "\n",
    "    def compute_mask(self, *args, **kwargs):\n",
    "        return self.embedding.compute_mask(*args, **kwargs)\n",
    "\n",
    "    def call(self, x):\n",
    "        length = tf.shape(x)[1]\n",
    "        x = self.embedding(x)\n",
    "        # This factor sets the relative scale of the embedding and positonal_encoding.\n",
    "        x *= tf.math.sqrt(tf.cast(self.d_model, tf.float32))\n",
    "        x = x + self.pos_encoding[tf.newaxis, :length, :]\n",
    "        return x\n",
    "\n",
    "class LandmarkEmbedding(tf.keras.layers.Layer):\n",
    "    def __init__(self, len_of_seq, d_model, num_conv_layers, filter_size):\n",
    "        super().__init__()\n",
    "        self.d_model = d_model\n",
    "        self.conv_block = tf.keras.models.Sequential([\n",
    "            tf.keras.layers.Conv1D(d_model, filter_size, padding=\"same\", activation=\"relu\")\n",
    "            for _ in range(num_conv_layers)\n",
    "        ])\n",
    "        \n",
    "    def call(self, x):\n",
    "        x = self.conv_block(x)\n",
    "        return x\n",
    "\n",
    "class PositionalLandmarkEmbedding(tf.keras.layers.Layer):\n",
    "    def __init__(self, len_of_seq, d_model, num_conv_layers, filter_size):\n",
    "        super().__init__()\n",
    "        self.d_model = d_model\n",
    "        self.len_of_seq = len_of_seq\n",
    "        self.conv_block = tf.keras.models.Sequential([\n",
    "            tf.keras.layers.Conv1D(d_model, filter_size, padding=\"same\", activation=\"relu\")\n",
    "            for _ in range(num_conv_layers)\n",
    "        ])\n",
    "        self.pos_encoding = positional_encoding(length=len_of_seq, depth=d_model)\n",
    "        \n",
    "    def call(self, x):\n",
    "        x = self.conv_block(x)\n",
    "        x *= tf.math.sqrt(tf.cast(self.d_model, tf.float32))\n",
    "        x = x + self.pos_encoding[tf.newaxis, :self.len_of_seq, :]\n",
    "        return x"
   ]
  },
  {
   "cell_type": "markdown",
   "id": "25fcad54-ad86-4b8e-af25-272c6b3ec140",
   "metadata": {},
   "source": [
    "## Encoder-Decoder using recurrent units"
   ]
  },
  {
   "cell_type": "code",
   "execution_count": 46,
   "id": "8c63717c",
   "metadata": {},
   "outputs": [],
   "source": [
    "class Seq2SeqRecurrent(tf.keras.Model):\n",
    "    def __init__(self, *, recurrent_unit_type, num_recurrent_layers=1, len_lm_seq, num_conv_layers, filter_size, d_model, input_vocab_size, target_vocab_size, max_future_input_size, dropout_rate=0.1):\n",
    "        super().__init__()\n",
    "\n",
    "        if recurrent_unit_type not in ['LSTM', 'SimpleRNN', 'GRU']:\n",
    "            raise ValueError(f\"Invalid recurrent_unit_type: {recurrent_unit_type}. Choose from ['LSTM', 'SimpleRNN', 'GRU']\")\n",
    "\n",
    "        self.max_future_input_size = max_future_input_size\n",
    "\n",
    "        # Positional embeddings and dropout\n",
    "        self.enc_pos_embedding = LandmarkEmbedding(len_lm_seq, d_model, num_conv_layers, filter_size)\n",
    "        self.enc_dropout = tf.keras.layers.Dropout(dropout_rate)\n",
    "        self.dec_pos_embedding = PositionalTokenEmbedding(vocab_size=input_vocab_size, d_model=d_model, max_future_input_size=max_future_input_size)\n",
    "        self.dec_dropout = tf.keras.layers.Dropout(dropout_rate)\n",
    "\n",
    "        # Encoder recurrent units\n",
    "        recurrent_unit = {'LSTM': tf.keras.layers.LSTM, 'SimpleRNN': tf.keras.layers.SimpleRNN, 'GRU': tf.keras.layers.GRU}[recurrent_unit_type]\n",
    "        self.enc_recurrent_layers = [recurrent_unit(d_model, return_sequences=True, return_state=True) for _ in range(num_recurrent_layers)]\n",
    "        self.dec_recurrent_layers = [recurrent_unit(d_model, return_sequences=True, return_state=True) for _ in range(num_recurrent_layers)]\n",
    "\n",
    "        # Final classifier\n",
    "        self.classifier = tf.keras.layers.Dense(target_vocab_size)\n",
    "\n",
    "    def call(self, inputs):\n",
    "        landmark_seq, prev_gen_ctx  = inputs\n",
    "\n",
    "        encoded_lm_seq = self.enc_pos_embedding(landmark_seq)\n",
    "        encoded_lm_seq = self.enc_dropout(encoded_lm_seq)\n",
    "\n",
    "        states = None\n",
    "        for layer in self.enc_recurrent_layers:\n",
    "            encoded_lm_seq, *states = layer(encoded_lm_seq, initial_state=states)\n",
    "\n",
    "        # states now contain the final state(s) of the encoder\n",
    "        embedded_ctx = self.dec_pos_embedding(prev_gen_ctx)\n",
    "        embedded_ctx = self.dec_dropout(embedded_ctx)\n",
    "\n",
    "        mask = self.dec_pos_embedding.compute_mask(prev_gen_ctx)\n",
    "        # Initialize the first decoder layer with the final state of the encoder\n",
    "        embedded_ctx, *_ = self.dec_recurrent_layers[0](embedded_ctx, initial_state=states, mask=mask)\n",
    "\n",
    "        for layer in self.dec_recurrent_layers[1:]:\n",
    "            embedded_ctx, *_ = layer(embedded_ctx, mask=mask)\n",
    "\n",
    "        logits = self.classifier(embedded_ctx)\n",
    "\n",
    "        try:\n",
    "            del logits._keras_mask\n",
    "        except AttributeError:\n",
    "            pass\n",
    "    \n",
    "        return logits\n",
    "\n",
    "# This function is important in case the model needs to be loaded only from the saved weights.\n",
    "# The exact model needs to be recreated, with all parameters matching!\n",
    "def get_model(d_model):\n",
    "    max_future_input_size = MAX_PHRASE_LEN  # In the future the input can be longer than what it's trained on\n",
    "    \n",
    "    seq2seq_model = Seq2SeqRecurrent(\n",
    "        recurrent_unit_type=\"LSTM\", # LSTM, SimpleRNN, GRU\n",
    "        num_recurrent_layers=1,\n",
    "        len_lm_seq=FRAME_LEN,\n",
    "        num_conv_layers=3,\n",
    "        filter_size=11,\n",
    "        d_model=d_model,\n",
    "        input_vocab_size=len(char_to_num),\n",
    "        target_vocab_size=len(char_to_num),\n",
    "        max_future_input_size=max_future_input_size,\n",
    "        dropout_rate=0.1)\n",
    "\n",
    "    return seq2seq_model\n",
    "\n",
    "D_MODEL = 256 # embedding size\n",
    "\n",
    "model = get_model(D_MODEL)"
   ]
  },
  {
   "cell_type": "markdown",
   "id": "a7f3a837-86b2-485e-b832-b378b79dc0ae",
   "metadata": {},
   "source": [
    "## General transformer\n",
    "\n",
    "Source: https://colab.research.google.com/github/tensorflow/text/blob/master/docs/tutorials/transformer.ipynb#scrollTo=1Rz82wEs5biZ"
   ]
  },
  {
   "cell_type": "code",
   "execution_count": 68,
   "id": "b823726e-3c68-4115-818d-3800f3023d0c",
   "metadata": {},
   "outputs": [],
   "source": [
    "class BaseAttention(tf.keras.layers.Layer):\n",
    "    def __init__(self, **kwargs):\n",
    "        super().__init__()\n",
    "        self.mha = tf.keras.layers.MultiHeadAttention(**kwargs)\n",
    "        self.layernorm = tf.keras.layers.LayerNormalization()\n",
    "        self.add = tf.keras.layers.Add()\n",
    "\n",
    "class CrossAttention(BaseAttention):\n",
    "    def call(self, x, context):\n",
    "        attn_output, attn_scores = self.mha(\n",
    "            query=x,\n",
    "            key=context,\n",
    "            value=context,\n",
    "            return_attention_scores=True)\n",
    "       \n",
    "        # Cache the attention scores for plotting later.\n",
    "        self.last_attn_scores = attn_scores\n",
    "    \n",
    "        x = self.add([x, attn_output])\n",
    "        x = self.layernorm(x)\n",
    "    \n",
    "        return x\n",
    "    \n",
    "class GlobalSelfAttention(BaseAttention):\n",
    "    def call(self, x):\n",
    "        attn_output = self.mha(\n",
    "            query=x,\n",
    "            value=x,\n",
    "            key=x)\n",
    "        x = self.add([x, attn_output])\n",
    "        x = self.layernorm(x)\n",
    "        return x\n",
    "    \n",
    "class CausalSelfAttention(BaseAttention):\n",
    "    def call(self, x):\n",
    "        attn_output = self.mha(\n",
    "            query=x,\n",
    "            value=x,\n",
    "            key=x,\n",
    "            use_causal_mask = True)\n",
    "        x = self.add([x, attn_output])\n",
    "        x = self.layernorm(x)\n",
    "        return x\n",
    "    \n",
    "class FeedForward(tf.keras.layers.Layer):\n",
    "    def __init__(self, d_model, dff, dropout_rate=0.1):\n",
    "        super().__init__()\n",
    "        self.seq = tf.keras.Sequential([\n",
    "          tf.keras.layers.Dense(dff, activation='relu'),\n",
    "          tf.keras.layers.Dense(d_model),\n",
    "          tf.keras.layers.Dropout(dropout_rate)\n",
    "        ])\n",
    "        self.add = tf.keras.layers.Add()\n",
    "        self.layer_norm = tf.keras.layers.LayerNormalization()\n",
    "\n",
    "    def call(self, x):\n",
    "        x = self.add([x, self.seq(x)])\n",
    "        x = self.layer_norm(x) \n",
    "        return x\n",
    "    \n",
    "class EncoderLayer(tf.keras.layers.Layer):\n",
    "    def __init__(self,*, d_model, num_heads, dff, dropout_rate=0.1):\n",
    "        super().__init__()\n",
    "    \n",
    "        self.self_attention = GlobalSelfAttention(\n",
    "            num_heads=num_heads,\n",
    "            key_dim=d_model,\n",
    "            dropout=dropout_rate)\n",
    "    \n",
    "        self.ffn = FeedForward(d_model, dff)\n",
    "    \n",
    "    def call(self, x):\n",
    "        x = self.self_attention(x)\n",
    "        x = self.ffn(x)\n",
    "        return x\n",
    "    \n",
    "class Encoder(tf.keras.layers.Layer):\n",
    "    def __init__(self, *, len_of_seq, num_layers, d_model, num_heads,\n",
    "               dff, num_conv_layers, filter_size, dropout_rate=0.1):\n",
    "        super().__init__()\n",
    "    \n",
    "        self.d_model = d_model\n",
    "        self.num_layers = num_layers\n",
    "    \n",
    "        self.pos_embedding = LandmarkEmbedding(\n",
    "            len_of_seq, d_model, num_conv_layers, filter_size)\n",
    "    \n",
    "        self.enc_layers = [\n",
    "            EncoderLayer(d_model=d_model,\n",
    "                         num_heads=num_heads,\n",
    "                         dff=dff,\n",
    "                         dropout_rate=dropout_rate)\n",
    "            for _ in range(num_layers)]\n",
    "        self.dropout = tf.keras.layers.Dropout(dropout_rate)\n",
    "\n",
    "    def call(self, x):\n",
    "        # `x` is landmark sequences with shape: (batch, seq_len, features)\n",
    "        x = self.pos_embedding(x)  # Shape `(batch_size, seq_len, d_model)`.\n",
    "        \n",
    "        x = self.dropout(x)\n",
    "    \n",
    "        for i in range(self.num_layers):\n",
    "            x = self.enc_layers[i](x)\n",
    "    \n",
    "        return x  # Shape `(batch_size, seq_len, d_model)`.\n",
    "    \n",
    "class DecoderLayer(tf.keras.layers.Layer):\n",
    "    def __init__(self, *, d_model, num_heads, dff, dropout_rate=0.1):\n",
    "        super(DecoderLayer, self).__init__()\n",
    "    \n",
    "        self.causal_self_attention = CausalSelfAttention(\n",
    "            num_heads=num_heads,\n",
    "            key_dim=d_model,\n",
    "            dropout=dropout_rate)\n",
    "        \n",
    "        self.cross_attention = CrossAttention(\n",
    "            num_heads=num_heads,\n",
    "            key_dim=d_model,\n",
    "            dropout=dropout_rate)\n",
    "    \n",
    "        self.ffn = FeedForward(d_model, dff)\n",
    "\n",
    "    def call(self, x, context):\n",
    "        x = self.causal_self_attention(x=x)\n",
    "        x = self.cross_attention(x=x, context=context)\n",
    "    \n",
    "        # Cache the last attention scores for plotting later\n",
    "        self.last_attn_scores = self.cross_attention.last_attn_scores\n",
    "    \n",
    "        x = self.ffn(x)  # Shape `(batch_size, seq_len, d_model)`.\n",
    "        return x\n",
    "    \n",
    "class Decoder(tf.keras.layers.Layer):\n",
    "    def __init__(self, *, num_layers, d_model, num_heads, dff, vocab_size, max_future_input_size, dropout_rate=0.1):\n",
    "        super(Decoder, self).__init__()\n",
    "    \n",
    "        self.d_model = d_model\n",
    "        self.num_layers = num_layers\n",
    "    \n",
    "        self.pos_embedding = PositionalTokenEmbedding(vocab_size=vocab_size, d_model=d_model, max_future_input_size=max_future_input_size)\n",
    "        self.dropout = tf.keras.layers.Dropout(dropout_rate)\n",
    "        self.dec_layers = [\n",
    "            DecoderLayer(d_model=d_model, num_heads=num_heads, dff=dff, dropout_rate=dropout_rate)\n",
    "            for _ in range(num_layers)]\n",
    "    \n",
    "        self.last_attn_scores = None\n",
    "\n",
    "    def call(self, x, context):\n",
    "        # `x` is token-IDs shape (batch, target_seq_len)\n",
    "        x = self.pos_embedding(x)  # (batch_size, target_seq_len, d_model)\n",
    "    \n",
    "        x = self.dropout(x)\n",
    "    \n",
    "        for i in range(self.num_layers):\n",
    "            x  = self.dec_layers[i](x, context)\n",
    "    \n",
    "        self.last_attn_scores = self.dec_layers[-1].last_attn_scores\n",
    "    \n",
    "        # The shape of x is (batch_size, target_seq_len, d_model).\n",
    "        return x\n",
    "    \n",
    "class GeneralTransformer(tf.keras.Model):\n",
    "    def __init__(self, *, len_lm_seq, num_enc_layers, num_conv_layers, filter_size, num_dec_layers, d_model, num_heads, dff, input_vocab_size, target_vocab_size, max_future_input_size, dropout_rate=0.1):\n",
    "        super().__init__()\n",
    "        self.max_future_input_size = max_future_input_size\n",
    "        \n",
    "        self.encoder = Encoder(len_of_seq=len_lm_seq,\n",
    "                               num_layers=num_enc_layers, d_model=d_model,\n",
    "                               num_heads=num_heads, dff=dff,\n",
    "                               num_conv_layers=num_conv_layers,\n",
    "                               filter_size=filter_size,\n",
    "                               dropout_rate=dropout_rate)\n",
    "        \n",
    "        self.decoder = Decoder(num_layers=num_dec_layers, d_model=d_model,\n",
    "                               num_heads=num_heads, dff=dff,\n",
    "                               vocab_size=target_vocab_size,\n",
    "                               max_future_input_size=max_future_input_size,\n",
    "                               dropout_rate=dropout_rate)\n",
    "    \n",
    "        self.final_layer = tf.keras.layers.Dense(target_vocab_size)\n",
    "\n",
    "    def call(self, inputs):\n",
    "        # To use a Keras model with `.fit` you must pass all your inputs in the\n",
    "        # first argument.\n",
    "        landmark_seq, prev_gen_context  = inputs\n",
    "    \n",
    "        encoded_lm_seq = self.encoder(landmark_seq)  # (batch_size, landmark_seq_len, d_model)\n",
    "        x = self.decoder(prev_gen_context, encoded_lm_seq)  # (batch_size, target_len, d_model)\n",
    "        logits = self.final_layer(x)  # (batch_size, target_len, target_vocab_size)\n",
    "\n",
    "        try:\n",
    "            # Drop the keras mask, so it doesn't scale the losses/metrics.\n",
    "            # b/250038731\n",
    "            del logits._keras_mask\n",
    "        except AttributeError:\n",
    "            pass\n",
    "    \n",
    "        return logits\n",
    "\n",
    "# This function is important in case the model needs to be loaded only from the saved weights.\n",
    "# The exact model needs to be recreated, with all parameters matching!\n",
    "def get_model(d_model):\n",
    "    max_future_input_size = MAX_PHRASE_LEN  # In the future the input can be longer than what it's trained on\n",
    "    \n",
    "    general_transformer = GeneralTransformer(\n",
    "        len_lm_seq=FRAME_LEN,\n",
    "        num_enc_layers=2,\n",
    "        num_conv_layers=3,\n",
    "        filter_size=11,\n",
    "        num_dec_layers=4,\n",
    "        d_model=d_model,\n",
    "        num_heads=2,\n",
    "        dff=256, \n",
    "        input_vocab_size=len(char_to_num),\n",
    "        target_vocab_size=len(char_to_num),\n",
    "        max_future_input_size=max_future_input_size,\n",
    "        dropout_rate=0.1)\n",
    "\n",
    "    return general_transformer\n",
    "\n",
    "D_MODEL = 256 # embedding size\n",
    "\n",
    "model = get_model(D_MODEL)"
   ]
  },
  {
   "cell_type": "markdown",
   "id": "89b69180-beb8-4aba-ac66-6c753fd91e86",
   "metadata": {},
   "source": [
    "## Initialize weights"
   ]
  },
  {
   "cell_type": "code",
   "execution_count": 56,
   "id": "64de77bf",
   "metadata": {},
   "outputs": [
    {
     "name": "stdout",
     "output_type": "stream",
     "text": [
      "(32, 256, 78)\n",
      "(32, 33)\n",
      "(32, 33, 62)\n",
      "Model: \"general_transformer\"\n",
      "_________________________________________________________________\n",
      " Layer (type)                Output Shape              Param #   \n",
      "=================================================================\n",
      " encoder (Encoder)           multiple                  4031232   \n",
      "                                                                 \n",
      " decoder (Decoder)           multiple                  2252800   \n",
      "                                                                 \n",
      " dense_12 (Dense)            multiple                  15934     \n",
      "                                                                 \n",
      "=================================================================\n",
      "Total params: 6299966 (24.03 MB)\n",
      "Trainable params: 6299966 (24.03 MB)\n",
      "Non-trainable params: 0 (0.00 Byte)\n",
      "_________________________________________________________________\n"
     ]
    }
   ],
   "source": [
    "# Example inference to build the model\n",
    "(lm, ctx), _label = next(iter(train_ds))\n",
    "output = model((lm, ctx))\n",
    "\n",
    "print(lm.shape)\n",
    "print(ctx.shape)\n",
    "print(output.shape)\n",
    "\n",
    "model.summary()"
   ]
  },
  {
   "cell_type": "markdown",
   "id": "20a8efb6-0a40-40e0-9ac4-50a459176da4",
   "metadata": {},
   "source": [
    "## Training"
   ]
  },
  {
   "cell_type": "markdown",
   "id": "43d8cf57-c546-4c53-a72b-e46bf66f4311",
   "metadata": {},
   "source": [
    "### Parameters"
   ]
  },
  {
   "cell_type": "code",
   "execution_count": 81,
   "id": "f8900067-0797-4b12-920e-806271455347",
   "metadata": {},
   "outputs": [],
   "source": [
    "epochs = 30"
   ]
  },
  {
   "cell_type": "markdown",
   "id": "70c9b117-d236-4c8c-8928-c17985d83085",
   "metadata": {},
   "source": [
    "### Learning rate"
   ]
  },
  {
   "cell_type": "markdown",
   "id": "e9162832-30e7-4770-a830-58bcc13d84d8",
   "metadata": {},
   "source": [
    "#### Linear warm-up inverse square root decay\n",
    "\n",
    "The learning rate formula used in the \"Attention Is All You Need\" paper, where the Transformer architecture was introduced. This learning rate schedule is often referred to as the Transformer learning rate schedule or the Noam learning rate schedule (after one of the paper's authors, Noam Shazeer).\r\n",
    "\r\n",
    "The schedule first increases the learning rate linearly for warmup_steps steps, and then decreases it proportionally to the inverse square root of the step count. The rate at which it decreases is modulated by the model's depth (d_model). This combination ensures a rapid increase at the beginning of training, allowing the model to learn quickly, and then a gradual decrease to fine-tune as training progresses.\r\n",
    "\r\n",
    "In the context of the Transformer architecture, this learning rate schedule was found to be effective. The warm-up steps help stabilize training early on, while the decay helps in convergence in the later stages of training."
   ]
  },
  {
   "cell_type": "code",
   "execution_count": 84,
   "id": "d831b5ed",
   "metadata": {},
   "outputs": [
    {
     "data": {
      "image/png": "[encoded data removed]",
      "text/plain": [
       "<Figure size 640x480 with 1 Axes>"
      ]
     },
     "metadata": {},
     "output_type": "display_data"
    }
   ],
   "source": [
    "class TransformerSchedule(tf.keras.optimizers.schedules.LearningRateSchedule):\n",
    "    def __init__(self, d_model, warmup_steps=4000):\n",
    "        super().__init__()\n",
    "        self.sqrt_d_model = tf.math.rsqrt(tf.cast(d_model, tf.float32))\n",
    "        self.warmup_steps = warmup_steps\n",
    "\n",
    "    def __call__(self, step):\n",
    "        step = tf.cast(step, dtype=tf.float32)\n",
    "        arg1 = tf.math.rsqrt(step)\n",
    "        arg2 = step * (self.warmup_steps ** -1.5)\n",
    "    \n",
    "        return self.sqrt_d_model * tf.math.minimum(arg1, arg2)\n",
    "\n",
    "transformer_schedule = TransformerSchedule(D_MODEL)\n",
    "\n",
    "plt.plot(transformer_schedule(tf.range(40000, dtype=tf.float32)))\n",
    "plt.title(\"Linear warmup - Inverse square root decay\")\n",
    "plt.ylabel('Learning Rate')\n",
    "plt.xlabel('Train Step')\n",
    "plt.savefig('Linear warmup - Inverse square root decay.png', dpi=300)  # High resolution\n",
    "plt.show()"
   ]
  },
  {
   "cell_type": "markdown",
   "id": "0fb7c3bc-00f7-4c3d-a926-82a94044997d",
   "metadata": {},
   "source": [
    "#### Linear warm-up cosine decay\n",
    "\n",
    "For the Seq2Seq model, especially when trained on tasks like neural machine translation or any other sequence generation tasks, a combination of warm-up followed by a cosine or polynomial decay often works well."
   ]
  },
  {
   "cell_type": "code",
   "execution_count": 82,
   "id": "b3ec27ba-da91-40a2-a70e-7164b631837c",
   "metadata": {},
   "outputs": [],
   "source": [
    "# This is not the ideal way to do this, but it's managable with the size of the dataset\n",
    "steps_per_epoch = sum(1 for _ in train_ds)"
   ]
  },
  {
   "cell_type": "code",
   "execution_count": 83,
   "id": "a5787482-1afd-46fa-9ff6-50e04855f4ff",
   "metadata": {},
   "outputs": [
    {
     "data": {
      "image/png": "[encoded data removed]",
      "text/plain": [
       "<Figure size 640x480 with 1 Axes>"
      ]
     },
     "metadata": {},
     "output_type": "display_data"
    }
   ],
   "source": [
    "class WarmupCosineDecaySchedule(tf.keras.optimizers.schedules.LearningRateSchedule):\n",
    "    def __init__(self, max_lr, warmup_steps, total_steps):\n",
    "        super().__init__()\n",
    "        self.max_lr = max_lr\n",
    "        self.warmup_steps = warmup_steps\n",
    "        self.total_steps = total_steps\n",
    "\n",
    "    def __call__(self, step):\n",
    "        step = tf.cast(step, dtype=tf.float32)\n",
    "        \n",
    "        # Linear Warm-up\n",
    "        warmup_lr = self.max_lr * (step / self.warmup_steps)\n",
    "        \n",
    "        # Cosine Decay (excluding the warm-up phase)\n",
    "        decay_steps = tf.maximum(step - self.warmup_steps, 0)\n",
    "        remaining_steps = self.total_steps - self.warmup_steps\n",
    "        cosine_decay = 0.5 * (1 + tf.math.cos(np.pi * decay_steps / remaining_steps))\n",
    "        decayed_lr = self.max_lr * cosine_decay\n",
    "        \n",
    "        return tf.where(step < self.warmup_steps, warmup_lr, decayed_lr)\n",
    "\n",
    "# Example usage\n",
    "max_lr = 0.001\n",
    "warmup_steps = 4000\n",
    "total_steps = steps_per_epoch * epochs\n",
    "seq2seq_schedule = WarmupCosineDecaySchedule(max_lr, warmup_steps, total_steps)\n",
    "\n",
    "plt.plot(seq2seq_schedule(tf.range(40000, dtype=tf.float32)))\n",
    "plt.title(\"Linear warmup - Cosine decay\")\n",
    "plt.ylabel('Learning Rate')\n",
    "plt.xlabel('Train Step')\n",
    "plt.savefig('Linear warmup - Cosine decay.png', dpi=300)  # High resolution\n",
    "plt.show()"
   ]
  },
  {
   "cell_type": "markdown",
   "id": "a7769ff4-9b7c-4cdc-a2d1-58feb5186532",
   "metadata": {},
   "source": [
    "#### Optimizer"
   ]
  },
  {
   "cell_type": "code",
   "execution_count": 305,
   "id": "69a6c8d9-e961-436d-9d62-8743ea5c80d5",
   "metadata": {},
   "outputs": [],
   "source": [
    "optimizer = tf.keras.optimizers.Adam(seq2seq_schedule, beta_1=0.9, beta_2=0.98, epsilon=1e-9)"
   ]
  },
  {
   "cell_type": "markdown",
   "id": "4c8e1b4b-3765-42c6-874e-d491832e76d5",
   "metadata": {},
   "source": [
    "#### Metrics"
   ]
  },
  {
   "cell_type": "code",
   "execution_count": 306,
   "id": "6e05ffa5-8fa5-4177-b727-d5a50a2964a5",
   "metadata": {},
   "outputs": [],
   "source": [
    "def masked_loss(label, pred):\n",
    "    mask = label != pad_token_idx\n",
    "    loss_object = tf.keras.losses.SparseCategoricalCrossentropy(from_logits=True, reduction='none')\n",
    "    loss = loss_object(label, pred)\n",
    "\n",
    "    mask = tf.cast(mask, dtype=loss.dtype)\n",
    "    loss *= mask\n",
    "\n",
    "    loss = tf.reduce_sum(loss)/tf.reduce_sum(mask)\n",
    "    return loss\n",
    "\n",
    "\n",
    "def masked_accuracy(label, pred):\n",
    "    pred = tf.argmax(pred, axis=2)\n",
    "    label = tf.cast(label, pred.dtype)\n",
    "    match = label == pred\n",
    "\n",
    "    mask = label != pad_token_idx\n",
    "\n",
    "    match = match & mask\n",
    "\n",
    "    match = tf.cast(match, dtype=tf.float32)\n",
    "    mask = tf.cast(mask, dtype=tf.float32)\n",
    "    return tf.reduce_sum(match)/tf.reduce_sum(mask)"
   ]
  },
  {
   "cell_type": "code",
   "execution_count": 307,
   "id": "ec20b8c5-a458-43a6-a62f-b49febbf6e56",
   "metadata": {},
   "outputs": [],
   "source": [
    "model.compile(\n",
    "    loss=masked_loss,\n",
    "    optimizer=optimizer,\n",
    "    metrics=[masked_accuracy])"
   ]
  },
  {
   "cell_type": "code",
   "execution_count": 308,
   "id": "908d1e3c-7a66-45f9-834b-aeab590c323a",
   "metadata": {},
   "outputs": [],
   "source": [
    "model_checkpoint_callback = tf.keras.callbacks.ModelCheckpoint(\n",
    "    filepath=f'{model.name}_weights_checkpoint.h5',\n",
    "    monitor='val_loss',\n",
    "    save_best_only=True,\n",
    "    save_weights_only=True,\n",
    "    verbose=2\n",
    ")"
   ]
  },
  {
   "cell_type": "code",
   "execution_count": 309,
   "id": "48d23bc3-d78b-4a24-839a-478e88686817",
   "metadata": {},
   "outputs": [
    {
     "name": "stdout",
     "output_type": "stream",
     "text": [
      "Epoch 1/30\n",
      "\n",
      "Epoch 1: val_loss improved from inf to 2.16953, saving model to seq2_seq_recurrent_3_weights_checkpoint.h5\n",
      "1591/1591 - 1603s - loss: 2.6940 - masked_accuracy: 0.2387 - val_loss: 2.1695 - val_masked_accuracy: 0.3466 - 1603s/epoch - 1s/step\n",
      "Epoch 2/30\n",
      "\n",
      "Epoch 2: val_loss improved from 2.16953 to 1.85601, saving model to seq2_seq_recurrent_3_weights_checkpoint.h5\n",
      "1591/1591 - 1515s - loss: 2.0235 - masked_accuracy: 0.3937 - val_loss: 1.8560 - val_masked_accuracy: 0.4448 - 1515s/epoch - 952ms/step\n",
      "Epoch 3/30\n",
      "\n",
      "Epoch 3: val_loss improved from 1.85601 to 1.66784, saving model to seq2_seq_recurrent_3_weights_checkpoint.h5\n",
      "1591/1591 - 1562s - loss: 1.7887 - masked_accuracy: 0.4668 - val_loss: 1.6678 - val_masked_accuracy: 0.5017 - 1562s/epoch - 982ms/step\n",
      "Epoch 4/30\n",
      "\n",
      "Epoch 4: val_loss improved from 1.66784 to 1.49657, saving model to seq2_seq_recurrent_3_weights_checkpoint.h5\n",
      "1591/1591 - 1558s - loss: 1.6054 - masked_accuracy: 0.5228 - val_loss: 1.4966 - val_masked_accuracy: 0.5528 - 1558s/epoch - 979ms/step\n",
      "Epoch 5/30\n",
      "\n",
      "Epoch 5: val_loss improved from 1.49657 to 1.40392, saving model to seq2_seq_recurrent_3_weights_checkpoint.h5\n",
      "1591/1591 - 1590s - loss: 1.4815 - masked_accuracy: 0.5591 - val_loss: 1.4039 - val_masked_accuracy: 0.5806 - 1590s/epoch - 1000ms/step\n",
      "Epoch 6/30\n",
      "\n",
      "Epoch 6: val_loss improved from 1.40392 to 1.32722, saving model to seq2_seq_recurrent_3_weights_checkpoint.h5\n",
      "1591/1591 - 1558s - loss: 1.3931 - masked_accuracy: 0.5848 - val_loss: 1.3272 - val_masked_accuracy: 0.6026 - 1558s/epoch - 979ms/step\n",
      "Epoch 7/30\n",
      "\n",
      "Epoch 7: val_loss improved from 1.32722 to 1.26387, saving model to seq2_seq_recurrent_3_weights_checkpoint.h5\n",
      "1591/1591 - 1562s - loss: 1.3256 - masked_accuracy: 0.6041 - val_loss: 1.2639 - val_masked_accuracy: 0.6209 - 1562s/epoch - 981ms/step\n",
      "Epoch 8/30\n",
      "\n",
      "Epoch 8: val_loss improved from 1.26387 to 1.20931, saving model to seq2_seq_recurrent_3_weights_checkpoint.h5\n",
      "1591/1591 - 1557s - loss: 1.2711 - masked_accuracy: 0.6202 - val_loss: 1.2093 - val_masked_accuracy: 0.6365 - 1557s/epoch - 978ms/step\n",
      "Epoch 9/30\n",
      "\n",
      "Epoch 9: val_loss improved from 1.20931 to 1.17807, saving model to seq2_seq_recurrent_3_weights_checkpoint.h5\n",
      "1591/1591 - 1564s - loss: 1.2231 - masked_accuracy: 0.6344 - val_loss: 1.1781 - val_masked_accuracy: 0.6454 - 1564s/epoch - 983ms/step\n",
      "Epoch 10/30\n",
      "\n",
      "Epoch 10: val_loss improved from 1.17807 to 1.13540, saving model to seq2_seq_recurrent_3_weights_checkpoint.h5\n",
      "1591/1591 - 1591s - loss: 1.1822 - masked_accuracy: 0.6456 - val_loss: 1.1354 - val_masked_accuracy: 0.6585 - 1591s/epoch - 1000ms/step\n",
      "Epoch 11/30\n",
      "\n",
      "Epoch 11: val_loss improved from 1.13540 to 1.10339, saving model to seq2_seq_recurrent_3_weights_checkpoint.h5\n",
      "1591/1591 - 1569s - loss: 1.1434 - masked_accuracy: 0.6570 - val_loss: 1.1034 - val_masked_accuracy: 0.6663 - 1569s/epoch - 986ms/step\n",
      "Epoch 12/30\n",
      "\n",
      "Epoch 12: val_loss improved from 1.10339 to 1.06816, saving model to seq2_seq_recurrent_3_weights_checkpoint.h5\n",
      "1591/1591 - 1566s - loss: 1.1074 - masked_accuracy: 0.6673 - val_loss: 1.0682 - val_masked_accuracy: 0.6769 - 1566s/epoch - 984ms/step\n",
      "Epoch 13/30\n",
      "\n",
      "Epoch 13: val_loss improved from 1.06816 to 1.03788, saving model to seq2_seq_recurrent_3_weights_checkpoint.h5\n",
      "1591/1591 - 1583s - loss: 1.0736 - masked_accuracy: 0.6771 - val_loss: 1.0379 - val_masked_accuracy: 0.6849 - 1583s/epoch - 995ms/step\n",
      "Epoch 14/30\n",
      "\n",
      "Epoch 14: val_loss improved from 1.03788 to 1.00276, saving model to seq2_seq_recurrent_3_weights_checkpoint.h5\n",
      "1591/1591 - 1593s - loss: 1.0386 - masked_accuracy: 0.6868 - val_loss: 1.0028 - val_masked_accuracy: 0.6957 - 1593s/epoch - 1s/step\n",
      "Epoch 15/30\n",
      "\n",
      "Epoch 15: val_loss improved from 1.00276 to 0.98173, saving model to seq2_seq_recurrent_3_weights_checkpoint.h5\n",
      "1591/1591 - 1597s - loss: 1.0033 - masked_accuracy: 0.6969 - val_loss: 0.9817 - val_masked_accuracy: 0.7017 - 1597s/epoch - 1s/step\n",
      "Epoch 16/30\n",
      "\n",
      "Epoch 16: val_loss improved from 0.98173 to 0.94147, saving model to seq2_seq_recurrent_3_weights_checkpoint.h5\n",
      "1591/1591 - 1586s - loss: 0.9689 - masked_accuracy: 0.7072 - val_loss: 0.9415 - val_masked_accuracy: 0.7135 - 1586s/epoch - 997ms/step\n",
      "Epoch 17/30\n"
     ]
    },
    {
     "ename": "KeyboardInterrupt",
     "evalue": "",
     "output_type": "error",
     "traceback": [
      "\u001b[1;31m---------------------------------------------------------------------------\u001b[0m",
      "\u001b[1;31mKeyboardInterrupt\u001b[0m                         Traceback (most recent call last)",
      "File \u001b[1;32m<timed eval>:1\u001b[0m\n",
      "File \u001b[1;32m~\\AppData\\Local\\Programs\\Python\\Python39\\lib\\site-packages\\keras\\src\\utils\\traceback_utils.py:65\u001b[0m, in \u001b[0;36mfilter_traceback.<locals>.error_handler\u001b[1;34m(*args, **kwargs)\u001b[0m\n\u001b[0;32m     63\u001b[0m filtered_tb \u001b[38;5;241m=\u001b[39m \u001b[38;5;28;01mNone\u001b[39;00m\n\u001b[0;32m     64\u001b[0m \u001b[38;5;28;01mtry\u001b[39;00m:\n\u001b[1;32m---> 65\u001b[0m     \u001b[38;5;28;01mreturn\u001b[39;00m fn(\u001b[38;5;241m*\u001b[39margs, \u001b[38;5;241m*\u001b[39m\u001b[38;5;241m*\u001b[39mkwargs)\n\u001b[0;32m     66\u001b[0m \u001b[38;5;28;01mexcept\u001b[39;00m \u001b[38;5;167;01mException\u001b[39;00m \u001b[38;5;28;01mas\u001b[39;00m e:\n\u001b[0;32m     67\u001b[0m     filtered_tb \u001b[38;5;241m=\u001b[39m _process_traceback_frames(e\u001b[38;5;241m.\u001b[39m__traceback__)\n",
      "File \u001b[1;32m~\\AppData\\Local\\Programs\\Python\\Python39\\lib\\site-packages\\keras\\src\\engine\\training.py:1783\u001b[0m, in \u001b[0;36mModel.fit\u001b[1;34m(self, x, y, batch_size, epochs, verbose, callbacks, validation_split, validation_data, shuffle, class_weight, sample_weight, initial_epoch, steps_per_epoch, validation_steps, validation_batch_size, validation_freq, max_queue_size, workers, use_multiprocessing)\u001b[0m\n\u001b[0;32m   1775\u001b[0m \u001b[38;5;28;01mwith\u001b[39;00m tf\u001b[38;5;241m.\u001b[39mprofiler\u001b[38;5;241m.\u001b[39mexperimental\u001b[38;5;241m.\u001b[39mTrace(\n\u001b[0;32m   1776\u001b[0m     \u001b[38;5;124m\"\u001b[39m\u001b[38;5;124mtrain\u001b[39m\u001b[38;5;124m\"\u001b[39m,\n\u001b[0;32m   1777\u001b[0m     epoch_num\u001b[38;5;241m=\u001b[39mepoch,\n\u001b[1;32m   (...)\u001b[0m\n\u001b[0;32m   1780\u001b[0m     _r\u001b[38;5;241m=\u001b[39m\u001b[38;5;241m1\u001b[39m,\n\u001b[0;32m   1781\u001b[0m ):\n\u001b[0;32m   1782\u001b[0m     callbacks\u001b[38;5;241m.\u001b[39mon_train_batch_begin(step)\n\u001b[1;32m-> 1783\u001b[0m     tmp_logs \u001b[38;5;241m=\u001b[39m \u001b[38;5;28;43mself\u001b[39;49m\u001b[38;5;241;43m.\u001b[39;49m\u001b[43mtrain_function\u001b[49m\u001b[43m(\u001b[49m\u001b[43miterator\u001b[49m\u001b[43m)\u001b[49m\n\u001b[0;32m   1784\u001b[0m     \u001b[38;5;28;01mif\u001b[39;00m data_handler\u001b[38;5;241m.\u001b[39mshould_sync:\n\u001b[0;32m   1785\u001b[0m         context\u001b[38;5;241m.\u001b[39masync_wait()\n",
      "File \u001b[1;32m~\\AppData\\Local\\Programs\\Python\\Python39\\lib\\site-packages\\tensorflow\\python\\util\\traceback_utils.py:150\u001b[0m, in \u001b[0;36mfilter_traceback.<locals>.error_handler\u001b[1;34m(*args, **kwargs)\u001b[0m\n\u001b[0;32m    148\u001b[0m filtered_tb \u001b[38;5;241m=\u001b[39m \u001b[38;5;28;01mNone\u001b[39;00m\n\u001b[0;32m    149\u001b[0m \u001b[38;5;28;01mtry\u001b[39;00m:\n\u001b[1;32m--> 150\u001b[0m   \u001b[38;5;28;01mreturn\u001b[39;00m fn(\u001b[38;5;241m*\u001b[39margs, \u001b[38;5;241m*\u001b[39m\u001b[38;5;241m*\u001b[39mkwargs)\n\u001b[0;32m    151\u001b[0m \u001b[38;5;28;01mexcept\u001b[39;00m \u001b[38;5;167;01mException\u001b[39;00m \u001b[38;5;28;01mas\u001b[39;00m e:\n\u001b[0;32m    152\u001b[0m   filtered_tb \u001b[38;5;241m=\u001b[39m _process_traceback_frames(e\u001b[38;5;241m.\u001b[39m__traceback__)\n",
      "File \u001b[1;32m~\\AppData\\Local\\Programs\\Python\\Python39\\lib\\site-packages\\tensorflow\\python\\eager\\polymorphic_function\\polymorphic_function.py:831\u001b[0m, in \u001b[0;36mFunction.__call__\u001b[1;34m(self, *args, **kwds)\u001b[0m\n\u001b[0;32m    828\u001b[0m compiler \u001b[38;5;241m=\u001b[39m \u001b[38;5;124m\"\u001b[39m\u001b[38;5;124mxla\u001b[39m\u001b[38;5;124m\"\u001b[39m \u001b[38;5;28;01mif\u001b[39;00m \u001b[38;5;28mself\u001b[39m\u001b[38;5;241m.\u001b[39m_jit_compile \u001b[38;5;28;01melse\u001b[39;00m \u001b[38;5;124m\"\u001b[39m\u001b[38;5;124mnonXla\u001b[39m\u001b[38;5;124m\"\u001b[39m\n\u001b[0;32m    830\u001b[0m \u001b[38;5;28;01mwith\u001b[39;00m OptionalXlaContext(\u001b[38;5;28mself\u001b[39m\u001b[38;5;241m.\u001b[39m_jit_compile):\n\u001b[1;32m--> 831\u001b[0m   result \u001b[38;5;241m=\u001b[39m \u001b[38;5;28mself\u001b[39m\u001b[38;5;241m.\u001b[39m_call(\u001b[38;5;241m*\u001b[39margs, \u001b[38;5;241m*\u001b[39m\u001b[38;5;241m*\u001b[39mkwds)\n\u001b[0;32m    833\u001b[0m new_tracing_count \u001b[38;5;241m=\u001b[39m \u001b[38;5;28mself\u001b[39m\u001b[38;5;241m.\u001b[39mexperimental_get_tracing_count()\n\u001b[0;32m    834\u001b[0m without_tracing \u001b[38;5;241m=\u001b[39m (tracing_count \u001b[38;5;241m==\u001b[39m new_tracing_count)\n",
      "File \u001b[1;32m~\\AppData\\Local\\Programs\\Python\\Python39\\lib\\site-packages\\tensorflow\\python\\eager\\polymorphic_function\\polymorphic_function.py:867\u001b[0m, in \u001b[0;36mFunction._call\u001b[1;34m(self, *args, **kwds)\u001b[0m\n\u001b[0;32m    864\u001b[0m   \u001b[38;5;28mself\u001b[39m\u001b[38;5;241m.\u001b[39m_lock\u001b[38;5;241m.\u001b[39mrelease()\n\u001b[0;32m    865\u001b[0m   \u001b[38;5;66;03m# In this case we have created variables on the first call, so we run the\u001b[39;00m\n\u001b[0;32m    866\u001b[0m   \u001b[38;5;66;03m# defunned version which is guaranteed to never create variables.\u001b[39;00m\n\u001b[1;32m--> 867\u001b[0m   \u001b[38;5;28;01mreturn\u001b[39;00m \u001b[43mtracing_compilation\u001b[49m\u001b[38;5;241;43m.\u001b[39;49m\u001b[43mcall_function\u001b[49m\u001b[43m(\u001b[49m\n\u001b[0;32m    868\u001b[0m \u001b[43m      \u001b[49m\u001b[43margs\u001b[49m\u001b[43m,\u001b[49m\u001b[43m \u001b[49m\u001b[43mkwds\u001b[49m\u001b[43m,\u001b[49m\u001b[43m \u001b[49m\u001b[38;5;28;43mself\u001b[39;49m\u001b[38;5;241;43m.\u001b[39;49m\u001b[43m_no_variable_creation_config\u001b[49m\n\u001b[0;32m    869\u001b[0m \u001b[43m  \u001b[49m\u001b[43m)\u001b[49m\n\u001b[0;32m    870\u001b[0m \u001b[38;5;28;01melif\u001b[39;00m \u001b[38;5;28mself\u001b[39m\u001b[38;5;241m.\u001b[39m_variable_creation_config \u001b[38;5;129;01mis\u001b[39;00m \u001b[38;5;129;01mnot\u001b[39;00m \u001b[38;5;28;01mNone\u001b[39;00m:\n\u001b[0;32m    871\u001b[0m   \u001b[38;5;66;03m# Release the lock early so that multiple threads can perform the call\u001b[39;00m\n\u001b[0;32m    872\u001b[0m   \u001b[38;5;66;03m# in parallel.\u001b[39;00m\n\u001b[0;32m    873\u001b[0m   \u001b[38;5;28mself\u001b[39m\u001b[38;5;241m.\u001b[39m_lock\u001b[38;5;241m.\u001b[39mrelease()\n",
      "File \u001b[1;32m~\\AppData\\Local\\Programs\\Python\\Python39\\lib\\site-packages\\tensorflow\\python\\eager\\polymorphic_function\\tracing_compilation.py:139\u001b[0m, in \u001b[0;36mcall_function\u001b[1;34m(args, kwargs, tracing_options)\u001b[0m\n\u001b[0;32m    137\u001b[0m bound_args \u001b[38;5;241m=\u001b[39m function\u001b[38;5;241m.\u001b[39mfunction_type\u001b[38;5;241m.\u001b[39mbind(\u001b[38;5;241m*\u001b[39margs, \u001b[38;5;241m*\u001b[39m\u001b[38;5;241m*\u001b[39mkwargs)\n\u001b[0;32m    138\u001b[0m flat_inputs \u001b[38;5;241m=\u001b[39m function\u001b[38;5;241m.\u001b[39mfunction_type\u001b[38;5;241m.\u001b[39munpack_inputs(bound_args)\n\u001b[1;32m--> 139\u001b[0m \u001b[38;5;28;01mreturn\u001b[39;00m \u001b[43mfunction\u001b[49m\u001b[38;5;241;43m.\u001b[39;49m\u001b[43m_call_flat\u001b[49m\u001b[43m(\u001b[49m\u001b[43m  \u001b[49m\u001b[38;5;66;43;03m# pylint: disable=protected-access\u001b[39;49;00m\n\u001b[0;32m    140\u001b[0m \u001b[43m    \u001b[49m\u001b[43mflat_inputs\u001b[49m\u001b[43m,\u001b[49m\u001b[43m \u001b[49m\u001b[43mcaptured_inputs\u001b[49m\u001b[38;5;241;43m=\u001b[39;49m\u001b[43mfunction\u001b[49m\u001b[38;5;241;43m.\u001b[39;49m\u001b[43mcaptured_inputs\u001b[49m\n\u001b[0;32m    141\u001b[0m \u001b[43m\u001b[49m\u001b[43m)\u001b[49m\n",
      "File \u001b[1;32m~\\AppData\\Local\\Programs\\Python\\Python39\\lib\\site-packages\\tensorflow\\python\\eager\\polymorphic_function\\concrete_function.py:1264\u001b[0m, in \u001b[0;36mConcreteFunction._call_flat\u001b[1;34m(self, tensor_inputs, captured_inputs)\u001b[0m\n\u001b[0;32m   1260\u001b[0m possible_gradient_type \u001b[38;5;241m=\u001b[39m gradients_util\u001b[38;5;241m.\u001b[39mPossibleTapeGradientTypes(args)\n\u001b[0;32m   1261\u001b[0m \u001b[38;5;28;01mif\u001b[39;00m (possible_gradient_type \u001b[38;5;241m==\u001b[39m gradients_util\u001b[38;5;241m.\u001b[39mPOSSIBLE_GRADIENT_TYPES_NONE\n\u001b[0;32m   1262\u001b[0m     \u001b[38;5;129;01mand\u001b[39;00m executing_eagerly):\n\u001b[0;32m   1263\u001b[0m   \u001b[38;5;66;03m# No tape is watching; skip to running the function.\u001b[39;00m\n\u001b[1;32m-> 1264\u001b[0m   \u001b[38;5;28;01mreturn\u001b[39;00m \u001b[38;5;28;43mself\u001b[39;49m\u001b[38;5;241;43m.\u001b[39;49m\u001b[43m_inference_function\u001b[49m\u001b[38;5;241;43m.\u001b[39;49m\u001b[43mflat_call\u001b[49m\u001b[43m(\u001b[49m\u001b[43margs\u001b[49m\u001b[43m)\u001b[49m\n\u001b[0;32m   1265\u001b[0m forward_backward \u001b[38;5;241m=\u001b[39m \u001b[38;5;28mself\u001b[39m\u001b[38;5;241m.\u001b[39m_select_forward_and_backward_functions(\n\u001b[0;32m   1266\u001b[0m     args,\n\u001b[0;32m   1267\u001b[0m     possible_gradient_type,\n\u001b[0;32m   1268\u001b[0m     executing_eagerly)\n\u001b[0;32m   1269\u001b[0m forward_function, args_with_tangents \u001b[38;5;241m=\u001b[39m forward_backward\u001b[38;5;241m.\u001b[39mforward()\n",
      "File \u001b[1;32m~\\AppData\\Local\\Programs\\Python\\Python39\\lib\\site-packages\\tensorflow\\python\\eager\\polymorphic_function\\atomic_function.py:217\u001b[0m, in \u001b[0;36mAtomicFunction.flat_call\u001b[1;34m(self, args)\u001b[0m\n\u001b[0;32m    215\u001b[0m \u001b[38;5;28;01mdef\u001b[39;00m \u001b[38;5;21mflat_call\u001b[39m(\u001b[38;5;28mself\u001b[39m, args: Sequence[core\u001b[38;5;241m.\u001b[39mTensor]) \u001b[38;5;241m-\u001b[39m\u001b[38;5;241m>\u001b[39m Any:\n\u001b[0;32m    216\u001b[0m \u001b[38;5;250m  \u001b[39m\u001b[38;5;124;03m\"\"\"Calls with tensor inputs and returns the structured output.\"\"\"\u001b[39;00m\n\u001b[1;32m--> 217\u001b[0m   flat_outputs \u001b[38;5;241m=\u001b[39m \u001b[38;5;28;43mself\u001b[39;49m\u001b[43m(\u001b[49m\u001b[38;5;241;43m*\u001b[39;49m\u001b[43margs\u001b[49m\u001b[43m)\u001b[49m\n\u001b[0;32m    218\u001b[0m   \u001b[38;5;28;01mreturn\u001b[39;00m \u001b[38;5;28mself\u001b[39m\u001b[38;5;241m.\u001b[39mfunction_type\u001b[38;5;241m.\u001b[39mpack_output(flat_outputs)\n",
      "File \u001b[1;32m~\\AppData\\Local\\Programs\\Python\\Python39\\lib\\site-packages\\tensorflow\\python\\eager\\polymorphic_function\\atomic_function.py:252\u001b[0m, in \u001b[0;36mAtomicFunction.__call__\u001b[1;34m(self, *args)\u001b[0m\n\u001b[0;32m    250\u001b[0m \u001b[38;5;28;01mwith\u001b[39;00m record\u001b[38;5;241m.\u001b[39mstop_recording():\n\u001b[0;32m    251\u001b[0m   \u001b[38;5;28;01mif\u001b[39;00m \u001b[38;5;28mself\u001b[39m\u001b[38;5;241m.\u001b[39m_bound_context\u001b[38;5;241m.\u001b[39mexecuting_eagerly():\n\u001b[1;32m--> 252\u001b[0m     outputs \u001b[38;5;241m=\u001b[39m \u001b[38;5;28;43mself\u001b[39;49m\u001b[38;5;241;43m.\u001b[39;49m\u001b[43m_bound_context\u001b[49m\u001b[38;5;241;43m.\u001b[39;49m\u001b[43mcall_function\u001b[49m\u001b[43m(\u001b[49m\n\u001b[0;32m    253\u001b[0m \u001b[43m        \u001b[49m\u001b[38;5;28;43mself\u001b[39;49m\u001b[38;5;241;43m.\u001b[39;49m\u001b[43mname\u001b[49m\u001b[43m,\u001b[49m\n\u001b[0;32m    254\u001b[0m \u001b[43m        \u001b[49m\u001b[38;5;28;43mlist\u001b[39;49m\u001b[43m(\u001b[49m\u001b[43margs\u001b[49m\u001b[43m)\u001b[49m\u001b[43m,\u001b[49m\n\u001b[0;32m    255\u001b[0m \u001b[43m        \u001b[49m\u001b[38;5;28;43mlen\u001b[39;49m\u001b[43m(\u001b[49m\u001b[38;5;28;43mself\u001b[39;49m\u001b[38;5;241;43m.\u001b[39;49m\u001b[43mfunction_type\u001b[49m\u001b[38;5;241;43m.\u001b[39;49m\u001b[43mflat_outputs\u001b[49m\u001b[43m)\u001b[49m\u001b[43m,\u001b[49m\n\u001b[0;32m    256\u001b[0m \u001b[43m    \u001b[49m\u001b[43m)\u001b[49m\n\u001b[0;32m    257\u001b[0m   \u001b[38;5;28;01melse\u001b[39;00m:\n\u001b[0;32m    258\u001b[0m     outputs \u001b[38;5;241m=\u001b[39m make_call_op_in_graph(\n\u001b[0;32m    259\u001b[0m         \u001b[38;5;28mself\u001b[39m,\n\u001b[0;32m    260\u001b[0m         \u001b[38;5;28mlist\u001b[39m(args),\n\u001b[0;32m    261\u001b[0m         \u001b[38;5;28mself\u001b[39m\u001b[38;5;241m.\u001b[39m_bound_context\u001b[38;5;241m.\u001b[39mfunction_call_options\u001b[38;5;241m.\u001b[39mas_attrs(),\n\u001b[0;32m    262\u001b[0m     )\n",
      "File \u001b[1;32m~\\AppData\\Local\\Programs\\Python\\Python39\\lib\\site-packages\\tensorflow\\python\\eager\\context.py:1479\u001b[0m, in \u001b[0;36mContext.call_function\u001b[1;34m(self, name, tensor_inputs, num_outputs)\u001b[0m\n\u001b[0;32m   1477\u001b[0m cancellation_context \u001b[38;5;241m=\u001b[39m cancellation\u001b[38;5;241m.\u001b[39mcontext()\n\u001b[0;32m   1478\u001b[0m \u001b[38;5;28;01mif\u001b[39;00m cancellation_context \u001b[38;5;129;01mis\u001b[39;00m \u001b[38;5;28;01mNone\u001b[39;00m:\n\u001b[1;32m-> 1479\u001b[0m   outputs \u001b[38;5;241m=\u001b[39m \u001b[43mexecute\u001b[49m\u001b[38;5;241;43m.\u001b[39;49m\u001b[43mexecute\u001b[49m\u001b[43m(\u001b[49m\n\u001b[0;32m   1480\u001b[0m \u001b[43m      \u001b[49m\u001b[43mname\u001b[49m\u001b[38;5;241;43m.\u001b[39;49m\u001b[43mdecode\u001b[49m\u001b[43m(\u001b[49m\u001b[38;5;124;43m\"\u001b[39;49m\u001b[38;5;124;43mutf-8\u001b[39;49m\u001b[38;5;124;43m\"\u001b[39;49m\u001b[43m)\u001b[49m\u001b[43m,\u001b[49m\n\u001b[0;32m   1481\u001b[0m \u001b[43m      \u001b[49m\u001b[43mnum_outputs\u001b[49m\u001b[38;5;241;43m=\u001b[39;49m\u001b[43mnum_outputs\u001b[49m\u001b[43m,\u001b[49m\n\u001b[0;32m   1482\u001b[0m \u001b[43m      \u001b[49m\u001b[43minputs\u001b[49m\u001b[38;5;241;43m=\u001b[39;49m\u001b[43mtensor_inputs\u001b[49m\u001b[43m,\u001b[49m\n\u001b[0;32m   1483\u001b[0m \u001b[43m      \u001b[49m\u001b[43mattrs\u001b[49m\u001b[38;5;241;43m=\u001b[39;49m\u001b[43mattrs\u001b[49m\u001b[43m,\u001b[49m\n\u001b[0;32m   1484\u001b[0m \u001b[43m      \u001b[49m\u001b[43mctx\u001b[49m\u001b[38;5;241;43m=\u001b[39;49m\u001b[38;5;28;43mself\u001b[39;49m\u001b[43m,\u001b[49m\n\u001b[0;32m   1485\u001b[0m \u001b[43m  \u001b[49m\u001b[43m)\u001b[49m\n\u001b[0;32m   1486\u001b[0m \u001b[38;5;28;01melse\u001b[39;00m:\n\u001b[0;32m   1487\u001b[0m   outputs \u001b[38;5;241m=\u001b[39m execute\u001b[38;5;241m.\u001b[39mexecute_with_cancellation(\n\u001b[0;32m   1488\u001b[0m       name\u001b[38;5;241m.\u001b[39mdecode(\u001b[38;5;124m\"\u001b[39m\u001b[38;5;124mutf-8\u001b[39m\u001b[38;5;124m\"\u001b[39m),\n\u001b[0;32m   1489\u001b[0m       num_outputs\u001b[38;5;241m=\u001b[39mnum_outputs,\n\u001b[1;32m   (...)\u001b[0m\n\u001b[0;32m   1493\u001b[0m       cancellation_manager\u001b[38;5;241m=\u001b[39mcancellation_context,\n\u001b[0;32m   1494\u001b[0m   )\n",
      "File \u001b[1;32m~\\AppData\\Local\\Programs\\Python\\Python39\\lib\\site-packages\\tensorflow\\python\\eager\\execute.py:60\u001b[0m, in \u001b[0;36mquick_execute\u001b[1;34m(op_name, num_outputs, inputs, attrs, ctx, name)\u001b[0m\n\u001b[0;32m     53\u001b[0m   \u001b[38;5;66;03m# Convert any objects of type core_types.Tensor to Tensor.\u001b[39;00m\n\u001b[0;32m     54\u001b[0m   inputs \u001b[38;5;241m=\u001b[39m [\n\u001b[0;32m     55\u001b[0m       tensor_conversion_registry\u001b[38;5;241m.\u001b[39mconvert(t)\n\u001b[0;32m     56\u001b[0m       \u001b[38;5;28;01mif\u001b[39;00m \u001b[38;5;28misinstance\u001b[39m(t, core_types\u001b[38;5;241m.\u001b[39mTensor)\n\u001b[0;32m     57\u001b[0m       \u001b[38;5;28;01melse\u001b[39;00m t\n\u001b[0;32m     58\u001b[0m       \u001b[38;5;28;01mfor\u001b[39;00m t \u001b[38;5;129;01min\u001b[39;00m inputs\n\u001b[0;32m     59\u001b[0m   ]\n\u001b[1;32m---> 60\u001b[0m   tensors \u001b[38;5;241m=\u001b[39m \u001b[43mpywrap_tfe\u001b[49m\u001b[38;5;241;43m.\u001b[39;49m\u001b[43mTFE_Py_Execute\u001b[49m\u001b[43m(\u001b[49m\u001b[43mctx\u001b[49m\u001b[38;5;241;43m.\u001b[39;49m\u001b[43m_handle\u001b[49m\u001b[43m,\u001b[49m\u001b[43m \u001b[49m\u001b[43mdevice_name\u001b[49m\u001b[43m,\u001b[49m\u001b[43m \u001b[49m\u001b[43mop_name\u001b[49m\u001b[43m,\u001b[49m\n\u001b[0;32m     61\u001b[0m \u001b[43m                                      \u001b[49m\u001b[43minputs\u001b[49m\u001b[43m,\u001b[49m\u001b[43m \u001b[49m\u001b[43mattrs\u001b[49m\u001b[43m,\u001b[49m\u001b[43m \u001b[49m\u001b[43mnum_outputs\u001b[49m\u001b[43m)\u001b[49m\n\u001b[0;32m     62\u001b[0m \u001b[38;5;28;01mexcept\u001b[39;00m core\u001b[38;5;241m.\u001b[39m_NotOkStatusException \u001b[38;5;28;01mas\u001b[39;00m e:\n\u001b[0;32m     63\u001b[0m   \u001b[38;5;28;01mif\u001b[39;00m name \u001b[38;5;129;01mis\u001b[39;00m \u001b[38;5;129;01mnot\u001b[39;00m \u001b[38;5;28;01mNone\u001b[39;00m:\n",
      "\u001b[1;31mKeyboardInterrupt\u001b[0m: "
     ]
    }
   ],
   "source": [
    "%%time\n",
    "model.fit(train_ds,\n",
    "                validation_data=valid_ds,\n",
    "                epochs=epochs,\n",
    "                callbacks=[model_checkpoint_callback],\n",
    "                verbose = 2)"
   ]
  },
  {
   "cell_type": "code",
   "execution_count": 311,
   "id": "b6bb1a77-a4ca-4780-8494-1589a4c199e8",
   "metadata": {},
   "outputs": [
    {
     "data": {
      "text/plain": [
       "'c'"
      ]
     },
     "execution_count": 311,
     "metadata": {},
     "output_type": "execute_result"
    }
   ],
   "source": [
    "# Manual inference on test input\n",
    "test_inp = np.zeros((1, FRAME_LEN, lm_shape))\n",
    "test_ctx = np.array([[start_token_idx]])\n",
    "logits = model((test_inp, test_ctx))\n",
    "pred_idx = np.argmax(tf.nn.softmax(logits)[0][0])\n",
    "num_to_char[pred_idx]"
   ]
  },
  {
   "cell_type": "markdown",
   "id": "ae568f75-c578-4e32-a203-9bd9bc31089d",
   "metadata": {},
   "source": [
    "# Save model"
   ]
  },
  {
   "cell_type": "code",
   "execution_count": 26,
   "id": "9830e3a4-b7c0-490a-847c-bd188364efad",
   "metadata": {},
   "outputs": [],
   "source": [
    "tf_chars = tf.constant(list(char_to_num.keys()), dtype=tf.string)\n",
    "tf_nums = tf.constant(list(char_to_num.values()), dtype=tf.int64)\n",
    "\n",
    "class EncoderDecoderModelWrapper(tf.Module):\n",
    "    def __init__(self, model):\n",
    "        super(EncoderDecoderModelWrapper, self).__init__()\n",
    "        self.model = model\n",
    "        self.save_name = self.model.name\n",
    "        \n",
    "        self.tf_char_to_num = tf.lookup.StaticHashTable(\n",
    "            initializer=tf.lookup.KeyValueTensorInitializer(\n",
    "                keys=tf_chars,\n",
    "                values=tf_nums,\n",
    "            ),\n",
    "            default_value=tf.constant(-1, dtype=tf.int64),\n",
    "            name=\"tf_char_to_num_lut\"\n",
    "        )\n",
    "        \n",
    "        self.tf_num_to_char = tf.lookup.StaticHashTable(\n",
    "            initializer=tf.lookup.KeyValueTensorInitializer(\n",
    "                keys=tf_nums,\n",
    "                values=tf_chars,\n",
    "            ),\n",
    "            default_value=tf.constant(\"unknown\", dtype=tf.string),\n",
    "            name=\"tf_num_to_char_lut\"\n",
    "        )\n",
    "\n",
    "        self.ctx_len = tf.constant(self.model.max_future_input_size, dtype=tf.int32)\n",
    "\n",
    "    @tf.function()\n",
    "    def info(self):\n",
    "        return tf.constant(FEATURE_COLUMNS)\n",
    "\n",
    "    # @tf.function(input_signature=[\n",
    "    #     tf.TensorSpec(shape=[tf.constant(FRAME_LEN), tf.constant(lm_shape)], dtype=tf.float32),\n",
    "    #     tf.TensorSpec(shape=[], dtype=tf.string), # The input string is trimmed to max size set when initializing model\n",
    "    # ])\n",
    "    @tf.function(input_signature=[\n",
    "        tf.TensorSpec(shape=[None, tf.constant(len(FEATURE_COLUMNS))], dtype=tf.float32),\n",
    "        tf.TensorSpec(shape=[], dtype=tf.string), # The input string is trimmed to max size set when initializing model\n",
    "    ])\n",
    "    def predict(self, landmarks, ctx):\n",
    "        # Prepare input\n",
    "        # Trim context to not exceed max size\n",
    "        ctx_length = tf.strings.length(ctx)\n",
    "        starting_pos = tf.maximum(ctx_length - self.ctx_len, 0)\n",
    "        ctx = tf.strings.substr(ctx, starting_pos, self.ctx_len)\n",
    "\n",
    "        ctx_chars = tf.strings.unicode_split(ctx, input_encoding='UTF-8')\n",
    "        ctx_tokens = self.tf_char_to_num.lookup(ctx_chars)\n",
    "        batched_ctx_tokens = tf.expand_dims(ctx_tokens, axis=0) # Adds first (\"batch\") dimension to the tensor\n",
    "\n",
    "        landmarks = preprocess_landmark_a(landmarks)\n",
    "        batched_landmarks = tf.expand_dims(landmarks, axis=0)\n",
    "        \n",
    "        # Inference\n",
    "        logits = self.model((batched_landmarks, batched_ctx_tokens), training=False)\n",
    "        logits = logits[:, -1:, :][0][0] # Select the last element in the middle dimension (the first is the batch dim, the last is the num_of_classes dim)\n",
    "        \n",
    "        # Parse result\n",
    "        probabilities = tf.nn.softmax(logits)\n",
    "        pred_prob = tf.reduce_max(probabilities)\n",
    "        pred_idx = tf.argmax(probabilities)\n",
    "        pred_char = self.tf_num_to_char.lookup(pred_idx)\n",
    "        \n",
    "        return {'result' : pred_char, 'confidence': pred_prob}"
   ]
  },
  {
   "cell_type": "code",
   "execution_count": 329,
   "id": "8d270af3-e942-4bce-9103-63ea511aa3ef",
   "metadata": {},
   "outputs": [],
   "source": [
    "wrapped_model = EncoderDecoderModelWrapper(model)"
   ]
  },
  {
   "cell_type": "code",
   "execution_count": 330,
   "id": "429e7979-2e1c-4da6-9785-c6bccc32dd06",
   "metadata": {},
   "outputs": [
    {
     "name": "stdout",
     "output_type": "stream",
     "text": [
      "CPU times: total: 1.45 s\n",
      "Wall time: 1.26 s\n"
     ]
    },
    {
     "data": {
      "text/plain": [
       "{'result': <tf.Tensor: shape=(), dtype=string, numpy=b'h'>,\n",
       " 'confidence': <tf.Tensor: shape=(), dtype=float32, numpy=0.55950594>}"
      ]
     },
     "execution_count": 330,
     "metadata": {},
     "output_type": "execute_result"
    }
   ],
   "source": [
    "%%time\n",
    "wrapped_model.predict(np.zeros((FRAME_LEN, len(FEATURE_COLUMNS))), \"abc\")"
   ]
  },
  {
   "cell_type": "markdown",
   "id": "3f46554d-b85a-427b-b8fc-6d8dfe97c4b0",
   "metadata": {},
   "source": [
    "Note: first time execution is usually slower than the rest."
   ]
  },
  {
   "cell_type": "code",
   "execution_count": 331,
   "id": "6d675d6f-b90d-4c1e-9390-0ff87bf4bffa",
   "metadata": {},
   "outputs": [
    {
     "name": "stdout",
     "output_type": "stream",
     "text": [
      "INFO:tensorflow:Assets written to: seq2_seq_recurrent_3\\assets\n"
     ]
    },
    {
     "name": "stderr",
     "output_type": "stream",
     "text": [
      "INFO:tensorflow:Assets written to: seq2_seq_recurrent_3\\assets\n"
     ]
    },
    {
     "name": "stdout",
     "output_type": "stream",
     "text": [
      "A model with the name (seq2_seq_recurrent_3) was just saved!\n"
     ]
    }
   ],
   "source": [
    "save_model_name = wrapped_model.save_name\n",
    "if os.path.isdir(save_model_name):\n",
    "    print(f\"A model with the same name ({save_model_name}) has already been saved!\")\n",
    "else:\n",
    "    tf.saved_model.save(wrapped_model, export_dir=save_model_name)\n",
    "    print(f\"A model with the name ({save_model_name}) was just saved!\")"
   ]
  },
  {
   "cell_type": "markdown",
   "id": "b5134bee-834e-4c51-9c0e-6171544801e7",
   "metadata": {},
   "source": [
    "# Load model"
   ]
  },
  {
   "cell_type": "markdown",
   "id": "19523338-3c1c-42bc-aebf-a2ccdb6f7587",
   "metadata": {},
   "source": [
    "## From saved weights\n",
    "\n",
    "1. Create model object with same parameters\n",
    "2. Build the model (run inference on it, to initialize the parameters)\n",
    "3. Load the weights\n",
    "4. Convert it to tf.Module or run manual inference on it"
   ]
  },
  {
   "cell_type": "code",
   "execution_count": 69,
   "id": "734e396a-eb2b-40ae-9499-366f0238fa29",
   "metadata": {},
   "outputs": [],
   "source": [
    "new_model = get_model(D_MODEL)"
   ]
  },
  {
   "cell_type": "code",
   "execution_count": 70,
   "id": "dd880874-8945-43e7-9784-b8a614af2c04",
   "metadata": {},
   "outputs": [
    {
     "name": "stdout",
     "output_type": "stream",
     "text": [
      "(32, 256, 78)\n",
      "(32, 33)\n",
      "(32, 33, 62)\n",
      "Model: \"general_transformer_5\"\n",
      "_________________________________________________________________\n",
      " Layer (type)                Output Shape              Param #   \n",
      "=================================================================\n",
      " encoder_5 (Encoder)         multiple                  2979584   \n",
      "                                                                 \n",
      " decoder_5 (Decoder)         multiple                  4756992   \n",
      "                                                                 \n",
      " dense_71 (Dense)            multiple                  15934     \n",
      "                                                                 \n",
      "=================================================================\n",
      "Total params: 7752510 (29.57 MB)\n",
      "Trainable params: 7752510 (29.57 MB)\n",
      "Non-trainable params: 0 (0.00 Byte)\n",
      "_________________________________________________________________\n"
     ]
    }
   ],
   "source": [
    "# Example inference to build the model\n",
    "(lm, ctx), _label = next(iter(train_ds))\n",
    "output = new_model((lm, ctx))\n",
    "\n",
    "print(lm.shape)\n",
    "print(ctx.shape)\n",
    "print(output.shape)\n",
    "\n",
    "new_model.summary()"
   ]
  },
  {
   "cell_type": "code",
   "execution_count": 71,
   "id": "a41aa238-925b-48c6-bc42-b4a213ed79ee",
   "metadata": {},
   "outputs": [],
   "source": [
    "new_model.load_weights(\"general_transformer_no_pos_embed/general_transformer_3_noposembed_60epochs_weights_checkpoint.h5\")"
   ]
  },
  {
   "cell_type": "code",
   "execution_count": 72,
   "id": "fdfde474-15c5-4d1b-949c-a432aeb15c3a",
   "metadata": {},
   "outputs": [
    {
     "data": {
      "text/plain": [
       "'l'"
      ]
     },
     "execution_count": 72,
     "metadata": {},
     "output_type": "execute_result"
    }
   ],
   "source": [
    "# Manual inference on test input\n",
    "test_inp = np.zeros((1, FRAME_LEN, lm_shape))\n",
    "test_ctx = np.array([[start_token_idx]])\n",
    "logits = new_model((test_inp, test_ctx), training=False)\n",
    "logits = logits[:, -1:, :][0][0]\n",
    "pred_idx = np.argmax(tf.nn.softmax(logits))\n",
    "num_to_char[pred_idx]"
   ]
  },
  {
   "cell_type": "code",
   "execution_count": 73,
   "id": "56c067e6-32fd-437a-b659-fa69ff208da6",
   "metadata": {},
   "outputs": [],
   "source": [
    "loaded_model = EncoderDecoderModelWrapper(new_model)"
   ]
  },
  {
   "cell_type": "code",
   "execution_count": 75,
   "id": "d174c620-c2dc-493a-9e2b-66fd05cc4b4a",
   "metadata": {},
   "outputs": [
    {
     "data": {
      "text/plain": [
       "{'result': <tf.Tensor: shape=(), dtype=string, numpy=b'l'>,\n",
       " 'confidence': <tf.Tensor: shape=(), dtype=float32, numpy=0.14071961>}"
      ]
     },
     "execution_count": 75,
     "metadata": {},
     "output_type": "execute_result"
    }
   ],
   "source": [
    "loaded_model.predict(np.zeros((FRAME_LEN, len(FEATURE_COLUMNS))), \"<\")"
   ]
  },
  {
   "cell_type": "code",
   "execution_count": 76,
   "id": "1a7ba58c-4881-4133-a26a-42964e0c3921",
   "metadata": {},
   "outputs": [
    {
     "name": "stdout",
     "output_type": "stream",
     "text": [
      "INFO:tensorflow:Assets written to: transformer_seq2seq\\assets\n"
     ]
    },
    {
     "name": "stderr",
     "output_type": "stream",
     "text": [
      "INFO:tensorflow:Assets written to: transformer_seq2seq\\assets\n"
     ]
    },
    {
     "name": "stdout",
     "output_type": "stream",
     "text": [
      "A model with the name (transformer_seq2seq) was just saved!\n"
     ]
    }
   ],
   "source": [
    "save_model_name = \"transformer_seq2seq\"\n",
    "if os.path.isdir(save_model_name):\n",
    "    print(f\"A model with the same name ({save_model_name}) has already been saved!\")\n",
    "else:\n",
    "    tf.saved_model.save(loaded_model, export_dir=save_model_name)\n",
    "    print(f\"A model with the name ({save_model_name}) was just saved!\")"
   ]
  },
  {
   "cell_type": "markdown",
   "id": "f5dd57bf-2295-4854-a91f-dcdf00747d5f",
   "metadata": {},
   "source": [
    "## From saved model"
   ]
  },
  {
   "cell_type": "code",
   "execution_count": 235,
   "id": "9eca4e3f-2ee8-44a1-bcd7-9551ab17caa5",
   "metadata": {},
   "outputs": [],
   "source": [
    "loaded_model = tf.saved_model.load(\"saved_model\")"
   ]
  },
  {
   "cell_type": "code",
   "execution_count": 236,
   "id": "b6b88b3d-b223-41ff-adac-70083196180b",
   "metadata": {},
   "outputs": [
    {
     "data": {
      "text/plain": [
       "{'result': <tf.Tensor: shape=(), dtype=string, numpy=b'_'>,\n",
       " 'confidence': <tf.Tensor: shape=(), dtype=float32, numpy=0.02006547>}"
      ]
     },
     "execution_count": 236,
     "metadata": {},
     "output_type": "execute_result"
    }
   ],
   "source": [
    "loaded_model.predict(np.zeros((FRAME_LEN, lm_shape)), \"<\")"
   ]
  },
  {
   "cell_type": "code",
   "execution_count": null,
   "id": "6a0cbe5c-50fb-4b86-8d4e-db97e2409ccb",
   "metadata": {},
   "outputs": [],
   "source": []
  }
 ],
 "metadata": {
  "kernelspec": {
   "display_name": "Python 3 (ipykernel)",
   "language": "python",
   "name": "python3"
  },
  "language_info": {
   "codemirror_mode": {
    "name": "ipython",
    "version": 3
   },
   "file_extension": ".py",
   "mimetype": "text/x-python",
   "name": "python",
   "nbconvert_exporter": "python",
   "pygments_lexer": "ipython3",
   "version": "3.9.13"
  }
 },
 "nbformat": 4,
 "nbformat_minor": 5
}
