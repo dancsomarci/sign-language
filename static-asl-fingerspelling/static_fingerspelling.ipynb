{
 "cells": [
  {
   "cell_type": "markdown",
   "id": "98b12b75-d31d-49b8-98f8-b1103bf9d783",
   "metadata": {},
   "source": [
    "# Dependencies"
   ]
  },
  {
   "cell_type": "code",
   "execution_count": 200,
   "id": "c1109a63-a002-465d-9554-b305902c7c38",
   "metadata": {},
   "outputs": [],
   "source": [
    "%%capture\n",
    "!pip install pandas\n",
    "!pip install openai\n",
    "!pip install tensorflow\n",
    "!pip install scikit-learn\n",
    "!pip install protobuf==3.20.*\n",
    "!pip install mediapipe==0.9.0.1"
   ]
  },
  {
   "cell_type": "code",
   "execution_count": 203,
   "id": "f17a1c85-90dc-478c-a4ca-be6757abaffa",
   "metadata": {},
   "outputs": [],
   "source": [
    "import os\n",
    "import random\n",
    "import matplotlib\n",
    "import numpy as np\n",
    "from itertools import chain\n",
    "from collections import deque\n",
    "from tqdm.notebook import tqdm\n",
    "import matplotlib.pyplot as plt\n",
    "from collections import Counter\n",
    "from IPython.display import display, Image\n",
    "\n",
    "import cv2\n",
    "import openai\n",
    "import pandas as pd\n",
    "import mediapipe as mp\n",
    "import tensorflow as tf\n",
    "from tensorflow import keras\n",
    "from tensorflow.keras import layers\n",
    "from sklearn.model_selection import train_test_split\n",
    "from mediapipe.framework.formats import landmark_pb2\n",
    "from sklearn.utils import check_random_state as sklear_set_seed"
   ]
  },
  {
   "cell_type": "code",
   "execution_count": 3,
   "id": "bb0e64c7-e4fa-45b5-bcbd-343292eab2af",
   "metadata": {},
   "outputs": [
    {
     "name": "stdout",
     "output_type": "stream",
     "text": [
      "Python 3.9.13\n",
      "TensorFlow v2.14.0\n",
      "Mediapipe v0.9.0.1\n"
     ]
    }
   ],
   "source": [
    "!python --version\n",
    "print(\"TensorFlow v\" + tf.__version__)\n",
    "print(\"Mediapipe v\" + mp.__version__)"
   ]
  },
  {
   "cell_type": "code",
   "execution_count": 32,
   "id": "ea0845a1-7495-48aa-8807-911823b74cf0",
   "metadata": {},
   "outputs": [],
   "source": [
    "seed = 42\n",
    "random.seed(seed)\n",
    "np.random.seed(seed)\n",
    "cv2.setRNGSeed(seed)\n",
    "sklear_set_seed(seed)\n",
    "tf. random.set_seed(seed)"
   ]
  },
  {
   "cell_type": "markdown",
   "id": "97d1fae5-e860-47ab-96e9-96e7292eb6a7",
   "metadata": {},
   "source": [
    "# Prepare dataset"
   ]
  },
  {
   "cell_type": "code",
   "execution_count": 34,
   "id": "986fe9cc-86dc-4646-b4aa-84d40895c305",
   "metadata": {
    "scrolled": true
   },
   "outputs": [
    {
     "name": "stdout",
     "output_type": "stream",
     "text": [
      "79054\n"
     ]
    },
    {
     "data": {
      "text/html": [
       "<div>\n",
       "<style scoped>\n",
       "    .dataframe tbody tr th:only-of-type {\n",
       "        vertical-align: middle;\n",
       "    }\n",
       "\n",
       "    .dataframe tbody tr th {\n",
       "        vertical-align: top;\n",
       "    }\n",
       "\n",
       "    .dataframe thead th {\n",
       "        text-align: right;\n",
       "    }\n",
       "</style>\n",
       "<table border=\"1\" class=\"dataframe\">\n",
       "  <thead>\n",
       "    <tr style=\"text-align: right;\">\n",
       "      <th></th>\n",
       "      <th>0</th>\n",
       "      <th>1</th>\n",
       "      <th>2</th>\n",
       "      <th>3</th>\n",
       "      <th>4</th>\n",
       "      <th>5</th>\n",
       "      <th>6</th>\n",
       "      <th>7</th>\n",
       "      <th>8</th>\n",
       "      <th>9</th>\n",
       "      <th>...</th>\n",
       "      <th>54</th>\n",
       "      <th>55</th>\n",
       "      <th>56</th>\n",
       "      <th>57</th>\n",
       "      <th>58</th>\n",
       "      <th>59</th>\n",
       "      <th>60</th>\n",
       "      <th>61</th>\n",
       "      <th>62</th>\n",
       "      <th>63</th>\n",
       "    </tr>\n",
       "  </thead>\n",
       "  <tbody>\n",
       "    <tr>\n",
       "      <th>0</th>\n",
       "      <td>0.282440</td>\n",
       "      <td>0.600049</td>\n",
       "      <td>-1.870000e-07</td>\n",
       "      <td>0.315119</td>\n",
       "      <td>0.568314</td>\n",
       "      <td>-0.020261</td>\n",
       "      <td>0.341418</td>\n",
       "      <td>0.497320</td>\n",
       "      <td>-0.028145</td>\n",
       "      <td>0.345182</td>\n",
       "      <td>...</td>\n",
       "      <td>0.245077</td>\n",
       "      <td>0.454705</td>\n",
       "      <td>-0.029709</td>\n",
       "      <td>0.256525</td>\n",
       "      <td>0.503494</td>\n",
       "      <td>-0.027200</td>\n",
       "      <td>0.265023</td>\n",
       "      <td>0.532601</td>\n",
       "      <td>-0.019086</td>\n",
       "      <td>a</td>\n",
       "    </tr>\n",
       "    <tr>\n",
       "      <th>1</th>\n",
       "      <td>0.306540</td>\n",
       "      <td>0.464684</td>\n",
       "      <td>-2.530000e-07</td>\n",
       "      <td>0.345548</td>\n",
       "      <td>0.433487</td>\n",
       "      <td>-0.015010</td>\n",
       "      <td>0.376949</td>\n",
       "      <td>0.352773</td>\n",
       "      <td>-0.019309</td>\n",
       "      <td>0.383595</td>\n",
       "      <td>...</td>\n",
       "      <td>0.273192</td>\n",
       "      <td>0.294298</td>\n",
       "      <td>-0.030596</td>\n",
       "      <td>0.283822</td>\n",
       "      <td>0.349954</td>\n",
       "      <td>-0.026084</td>\n",
       "      <td>0.290784</td>\n",
       "      <td>0.386303</td>\n",
       "      <td>-0.016583</td>\n",
       "      <td>a</td>\n",
       "    </tr>\n",
       "    <tr>\n",
       "      <th>2</th>\n",
       "      <td>0.312548</td>\n",
       "      <td>0.466279</td>\n",
       "      <td>-2.500000e-07</td>\n",
       "      <td>0.351508</td>\n",
       "      <td>0.435728</td>\n",
       "      <td>-0.017326</td>\n",
       "      <td>0.383225</td>\n",
       "      <td>0.355989</td>\n",
       "      <td>-0.022386</td>\n",
       "      <td>0.390655</td>\n",
       "      <td>...</td>\n",
       "      <td>0.279703</td>\n",
       "      <td>0.295002</td>\n",
       "      <td>-0.031225</td>\n",
       "      <td>0.289348</td>\n",
       "      <td>0.351177</td>\n",
       "      <td>-0.027367</td>\n",
       "      <td>0.296098</td>\n",
       "      <td>0.386388</td>\n",
       "      <td>-0.017859</td>\n",
       "      <td>a</td>\n",
       "    </tr>\n",
       "  </tbody>\n",
       "</table>\n",
       "<p>3 rows × 64 columns</p>\n",
       "</div>"
      ],
      "text/plain": [
       "         0         1             2         3         4         5         6   \\\n",
       "0  0.282440  0.600049 -1.870000e-07  0.315119  0.568314 -0.020261  0.341418   \n",
       "1  0.306540  0.464684 -2.530000e-07  0.345548  0.433487 -0.015010  0.376949   \n",
       "2  0.312548  0.466279 -2.500000e-07  0.351508  0.435728 -0.017326  0.383225   \n",
       "\n",
       "         7         8         9   ...        54        55        56        57  \\\n",
       "0  0.497320 -0.028145  0.345182  ...  0.245077  0.454705 -0.029709  0.256525   \n",
       "1  0.352773 -0.019309  0.383595  ...  0.273192  0.294298 -0.030596  0.283822   \n",
       "2  0.355989 -0.022386  0.390655  ...  0.279703  0.295002 -0.031225  0.289348   \n",
       "\n",
       "         58        59        60        61        62  63  \n",
       "0  0.503494 -0.027200  0.265023  0.532601 -0.019086   a  \n",
       "1  0.349954 -0.026084  0.290784  0.386303 -0.016583   a  \n",
       "2  0.351177 -0.027367  0.296098  0.386388 -0.017859   a  \n",
       "\n",
       "[3 rows x 64 columns]"
      ]
     },
     "execution_count": 34,
     "metadata": {},
     "output_type": "execute_result"
    }
   ],
   "source": [
    "dataset_df = pd.read_csv(\"fehervali_lamp_night_webcam.csv\", dtype={63: str}, header=None)\n",
    "dataset_df = dataset_df[dataset_df[63].notna()]\n",
    "print(len(dataset_df))\n",
    "dataset_df.head(3)"
   ]
  },
  {
   "cell_type": "markdown",
   "id": "f1d9c0f1-fbce-4f36-895c-e766f1d0ec91",
   "metadata": {},
   "source": [
    "As the data cosists of sequential frames many of them are similar, so only every n frames are kept."
   ]
  },
  {
   "cell_type": "code",
   "execution_count": 35,
   "id": "8fa8cfe9-b168-47f9-991a-a02b25e645da",
   "metadata": {},
   "outputs": [],
   "source": [
    "n = 10\n",
    "dataset_df = dataset_df[dataset_df.index % n == 0]"
   ]
  },
  {
   "cell_type": "code",
   "execution_count": 36,
   "id": "e20c50c6-1bfe-4254-afbd-fe8deed8e3f7",
   "metadata": {},
   "outputs": [
    {
     "data": {
      "image/png": "[encoded data removed]",
      "text/plain": [
       "<Figure size 800x600 with 1 Axes>"
      ]
     },
     "metadata": {},
     "output_type": "display_data"
    }
   ],
   "source": [
    "category_counts = dataset_df[63].value_counts()\n",
    "plt.figure(figsize=(8, 6))\n",
    "category_counts.plot(kind='bar')\n",
    "plt.xlabel('Categories')\n",
    "plt.ylabel('Count')\n",
    "plt.title(f'Distribution of Categories')\n",
    "plt.show()"
   ]
  },
  {
   "cell_type": "code",
   "execution_count": 52,
   "id": "d4918847-c341-4f20-968b-f6f1fa95ff1a",
   "metadata": {},
   "outputs": [],
   "source": [
    "PATH_TRAIN_DS = \"shuffled_dataset_train.csv\"\n",
    "PATH_VALID_DS = \"shuffled_dataset_train.csv\"\n",
    "shuffled_df = dataset_df.sample(frac=1).reset_index(drop=True)\n",
    "\n",
    "train_df, valid_df = train_test_split(shuffled_df, train_size=0.8, shuffle=True)\n",
    "\n",
    "train_df.to_csv(PATH_TRAIN_DS, index=False)\n",
    "valid_df.to_csv(PATH_VALID_DS, index=False)"
   ]
  },
  {
   "cell_type": "markdown",
   "id": "859a7282-d67d-40ae-b30f-765be12900ec",
   "metadata": {},
   "source": [
    "# Load dataset"
   ]
  },
  {
   "cell_type": "code",
   "execution_count": 67,
   "id": "3652c1a1-9e73-479d-b1d3-96d754a74a57",
   "metadata": {},
   "outputs": [],
   "source": [
    "sorted_cats = sorted(set(dataset_df[63].apply(lambda c: str(c))))\n",
    "cat_to_num = {sign : i for i, sign in enumerate(sorted_cats)}\n",
    "num_to_cat = {i : sign for sign, i in cat_to_num.items()}\n",
    "\n",
    "tf_cat_to_num = tf.lookup.StaticHashTable(\n",
    "    initializer=tf.lookup.KeyValueTensorInitializer(\n",
    "        keys=list(cat_to_num.keys()),\n",
    "        values=list(cat_to_num.values()),\n",
    "    ),\n",
    "    default_value=tf.constant(-1),\n",
    "    name=\"signs\"\n",
    ")"
   ]
  },
  {
   "cell_type": "markdown",
   "id": "23ccad94-dbe8-4d21-ad91-d6d5325a8ce1",
   "metadata": {},
   "source": [
    "## Augmentation\n",
    "\n",
    "Data looks like this: x1,y1,z1, x2,y2,z2 ...."
   ]
  },
  {
   "cell_type": "code",
   "execution_count": 148,
   "id": "88b65877-9b23-48ff-8f4f-483cbb612bd2",
   "metadata": {},
   "outputs": [],
   "source": [
    "def augment_lm(flat_xyz,\n",
    "               flip_prob=0.3,\n",
    "               zoom_prob=0.3,\n",
    "               affine_prob=0.3,\n",
    "               scale=(0.8, 1.2),\n",
    "               shear=(-0.15, 0.15),\n",
    "               shift=(-0.1, 0.1),\n",
    "               degree=(-30, 30),\n",
    "               zoom=(0.8, 1.2)):\n",
    "    \n",
    "    # Reshape flat data to [num_samples, 3]\n",
    "    xyz = tf.reshape(flat_xyz, [21, 3]) # 21 coords for the hands\n",
    "    \n",
    "    # 1. Flip x coordinates with given probability\n",
    "    if tf.random.uniform(()) < flip_prob:\n",
    "        xyz = tf.stack([1-xyz[:, 0], xyz[:, 1], xyz[:, 2]], axis=1)\n",
    "    \n",
    "    # 2. Apply zoom with given probability\n",
    "    if tf.random.uniform(()) < zoom_prob:\n",
    "        zx = zy = tf.random.uniform((), *zoom)\n",
    "    else:\n",
    "        zx, zy = 1.0, 1.0\n",
    "    \n",
    "    # 3. Affine transformations\n",
    "    if tf.random.uniform(()) < affine_prob:\n",
    "        # Random scale factors for x and y\n",
    "        sx = tf.random.uniform((), *scale)\n",
    "        sy = tf.random.uniform((), *scale)\n",
    "        sx *= zx\n",
    "        sy *= zy\n",
    "\n",
    "        # Random shear factors for x and y\n",
    "        shx = tf.random.uniform((), *shear)\n",
    "        shy = tf.random.uniform((), *shear)\n",
    "\n",
    "        # Random shift for x and y\n",
    "        tx = tf.random.uniform((), *shift)\n",
    "        ty = tf.random.uniform((), *shift)\n",
    "\n",
    "        # Random rotation in radians\n",
    "        pi_on_180 = 0.017453292519943295\n",
    "        theta = tf.random.uniform((), degree[0]*pi_on_180, degree[1]*pi_on_180)\n",
    "        c, s = tf.cos(theta), tf.sin(theta)\n",
    "\n",
    "        # Constructing the affine transformation matrix\n",
    "        matrix = tf.convert_to_tensor([\n",
    "            [sx*c + shx*s, -sy*s + shx*c, tx],\n",
    "            [sx*s + shy*c, sy*c + shy*s, ty]\n",
    "        ])\n",
    "\n",
    "        # Apply transformation to x and y\n",
    "        xy = tf.matmul(xyz[:, :2], tf.transpose(matrix[:, :2])) + matrix[:, 2]\n",
    "    else:\n",
    "        xy = xyz[:, :2]\n",
    "    \n",
    "    # Combining transformed x and y with original z\n",
    "    transformed_xyz = tf.concat([xy, tf.expand_dims(xyz[:, 2], axis=-1)], axis=1)\n",
    "    \n",
    "    # Flatten back to original shape\n",
    "    flat_transformed = tf.reshape(transformed_xyz, [-1])\n",
    "    \n",
    "    return flat_transformed"
   ]
  },
  {
   "cell_type": "code",
   "execution_count": 149,
   "id": "3a8b84c0-25d0-4607-8365-c608828576d8",
   "metadata": {},
   "outputs": [
    {
     "name": "stdout",
     "output_type": "stream",
     "text": [
      "tf.Tensor([0.08281422 0.325535   0.4        0.43096402 0.8735771  0.7       ], shape=(6,), dtype=float32)\n"
     ]
    }
   ],
   "source": [
    "# Sample test\n",
    "flat_xyz_data = tf.constant([0.1, 0.3, 0.4, 0.5, 0.6, 0.7])\n",
    "transformed = spatial_random_affine(flat_xyz_data)\n",
    "print(transformed)"
   ]
  },
  {
   "cell_type": "markdown",
   "id": "e74c530c-02fb-4b27-b673-aabdd981ff2f",
   "metadata": {},
   "source": [
    "## Preprocessing"
   ]
  },
  {
   "cell_type": "code",
   "execution_count": 150,
   "id": "4b8dd930-3409-4476-a97c-f0521af1bd6e",
   "metadata": {},
   "outputs": [],
   "source": [
    "def tf_nan_mean(x, axis=0, keepdims=False):\n",
    "    return tf.reduce_sum(tf.where(tf.math.is_nan(x), tf.zeros_like(x), x), axis=axis, keepdims=keepdims) / tf.reduce_sum(tf.where(tf.math.is_nan(x), tf.zeros_like(x), tf.ones_like(x)), axis=axis, keepdims=keepdims)\n",
    "\n",
    "def tf_nan_std(x, center=None, axis=0, keepdims=False):\n",
    "    if center is None:\n",
    "        center = tf_nan_mean(x, axis=axis,  keepdims=True)\n",
    "    d = x - center\n",
    "    return tf.math.sqrt(tf_nan_mean(d * d, axis=axis, keepdims=keepdims))\n",
    "\n",
    "def preprocess_lms(lm):\n",
    "    mean = tf_nan_mean(lm)\n",
    "    std = tf_nan_std(lm)\n",
    "    lm = (lm - mean)/std\n",
    "    lm = tf.where(tf.math.is_nan(lm),tf.constant(0.,lm.dtype),lm)\n",
    "    return lm\n",
    "\n",
    "def preprocess_cat(cat):\n",
    "    return tf_cat_to_num.lookup(cat)\n",
    "\n",
    "def preprocess_csv(line, augment=False):\n",
    "    columns = tf.strings.split(line, ',')\n",
    "    features = tf.strings.to_number(columns[:-1], out_type=tf.float32)\n",
    "    \n",
    "    if augment:\n",
    "        features = augment_lm(features)\n",
    "        \n",
    "    return preprocess_lms(features), preprocess_cat(columns[-1])"
   ]
  },
  {
   "cell_type": "code",
   "execution_count": 151,
   "id": "bd981b71-1121-40e3-8bd6-4bacc3a02b1d",
   "metadata": {},
   "outputs": [],
   "source": [
    "def get_dataset(csv_path, *, batch_size=1, drop_remainder=False, shuffle_size=None, repeat=False, cache=False, augment=False):\n",
    "    ds = tf.data.TextLineDataset(csv_path).skip(1) # skip header\n",
    "    ds = ds.map(lambda x: preprocess_csv(x, augment=augment), tf.data.AUTOTUNE)\n",
    "    \n",
    "    if repeat: \n",
    "        ds = ds.repeat()\n",
    "    \n",
    "    if shuffle_size:\n",
    "        ds = ds.shuffle(shuffle_size)\n",
    "        options = tf.data.Options()\n",
    "        options.experimental_deterministic = (False)\n",
    "        ds = ds.with_options(options)\n",
    "        \n",
    "    if batch_size > 1:\n",
    "        ds = ds.batch(batch_size)\n",
    "    \n",
    "    ds = ds.prefetch(tf.data.AUTOTUNE)\n",
    "    \n",
    "    if cache:\n",
    "        ds = ds.cache()\n",
    "    \n",
    "    return ds\n",
    "\n",
    "batch_size = 256\n",
    "\n",
    "train_ds = get_dataset(PATH_TRAIN_DS, batch_size=batch_size, shuffle_size=4*batch_size, augment=True)\n",
    "valid_ds = get_dataset(PATH_VALID_DS, batch_size=batch_size)"
   ]
  },
  {
   "cell_type": "code",
   "execution_count": 152,
   "id": "2f83d8d5-de32-4290-8b33-478fc6eefa2a",
   "metadata": {},
   "outputs": [
    {
     "name": "stdout",
     "output_type": "stream",
     "text": [
      "(<tf.Tensor: shape=(256, 63), dtype=float32, numpy=\n",
      "array([[ 0.91803676,  0.04994599, -1.1481365 , ...,  1.0608692 ,\n",
      "         0.2573768 , -1.2382442 ],\n",
      "       [ 0.43908828,  1.9541461 , -0.99697226, ...,  0.38656712,\n",
      "        -0.45505682, -1.3197205 ],\n",
      "       [-0.25387034,  1.6339612 , -0.9422369 , ..., -0.32827696,\n",
      "         1.5115246 , -1.0375955 ],\n",
      "       ...,\n",
      "       [-0.15190245,  1.5807458 , -0.6785015 , ..., -0.5493588 ,\n",
      "         1.6863092 , -0.8825209 ],\n",
      "       [-0.05439661,  2.4683104 , -0.81832457, ..., -0.54877067,\n",
      "         0.7105839 , -1.0772018 ],\n",
      "       [ 0.7113025 ,  1.34161   , -1.281158  , ...,  0.7795377 ,\n",
      "         1.0745475 , -1.4045508 ]], dtype=float32)>, <tf.Tensor: shape=(256,), dtype=int32, numpy=\n",
      "array([24,  4, 19,  2, 26, 10,  1,  6, 25, 12, 19, 32, 29, 17,  8, 30,  7,\n",
      "       22, 24, 32, 26, 18,  1,  9, 13, 11, 27,  1, 11,  5, 11,  9, 19, 20,\n",
      "       23, 20, 17, 18, 30, 30, 11, 16, 24, 14, 26,  1, 32, 30, 21, 14, 20,\n",
      "       18, 24, 15, 19, 17,  0, 27, 16, 24,  3,  7, 24,  5, 17, 22, 29, 32,\n",
      "       11, 32, 19,  0,  4, 23, 27, 18, 32, 19,  9, 23, 12, 28,  6, 25, 11,\n",
      "       16, 14, 14,  0,  9, 31, 26, 13, 29, 24, 11, 23, 32, 13,  4, 14,  2,\n",
      "       17, 12, 29, 32,  4,  9, 30, 17, 12, 20,  6, 24, 25, 14, 21,  5, 21,\n",
      "       15,  7,  4, 16, 22, 18, 18, 18,  4, 14,  9, 32,  6, 10,  4,  3, 10,\n",
      "       18,  0,  9,  6,  7, 24, 22, 18,  4, 32,  4, 13, 22,  9, 11, 31, 27,\n",
      "       11, 19, 12,  5, 20, 24, 16, 16, 24, 15,  4, 20, 16, 28, 22, 25, 15,\n",
      "       27, 22, 23, 26,  8, 13, 26, 26, 15,  4,  2, 13, 12, 28, 16, 25, 11,\n",
      "        4, 17, 21,  7, 19,  7,  8,  0, 31,  1, 17, 27,  8,  8, 26, 17, 10,\n",
      "       30, 21, 11, 23, 13, 18, 14, 12,  5, 14, 28, 19,  1,  8,  4,  6, 18,\n",
      "       13,  9, 29,  3,  7, 13,  5, 32, 16, 31, 27,  5, 30, 26,  3,  2, 24,\n",
      "       17,  9,  9, 32, 32,  2, 30,  5, 31, 17, 27,  0, 19, 11,  7, 23,  7,\n",
      "        2])>)\n"
     ]
    }
   ],
   "source": [
    "for batch in train_ds:\n",
    "    print(batch)\n",
    "    break"
   ]
  },
  {
   "cell_type": "markdown",
   "id": "2df1fb23-52de-4741-9f03-91648ec18570",
   "metadata": {},
   "source": [
    "# Models"
   ]
  },
  {
   "cell_type": "markdown",
   "id": "6c2fdbb7-ed17-4ff4-9e1a-a727ea7377cd",
   "metadata": {},
   "source": [
    "## Dense model"
   ]
  },
  {
   "cell_type": "code",
   "execution_count": 153,
   "id": "7de3a2ce-726c-4d4a-a014-1407eddd151f",
   "metadata": {},
   "outputs": [
    {
     "name": "stdout",
     "output_type": "stream",
     "text": [
      "Model: \"sequential_2\"\n",
      "_________________________________________________________________\n",
      " Layer (type)                Output Shape              Param #   \n",
      "=================================================================\n",
      " dense_6 (Dense)             (None, 128)               8192      \n",
      "                                                                 \n",
      " dropout_4 (Dropout)         (None, 128)               0         \n",
      "                                                                 \n",
      " dense_7 (Dense)             (None, 64)                8256      \n",
      "                                                                 \n",
      " dropout_5 (Dropout)         (None, 64)                0         \n",
      "                                                                 \n",
      " dense_8 (Dense)             (None, 33)                2145      \n",
      "                                                                 \n",
      "=================================================================\n",
      "Total params: 18593 (72.63 KB)\n",
      "Trainable params: 18593 (72.63 KB)\n",
      "Non-trainable params: 0 (0.00 Byte)\n",
      "_________________________________________________________________\n"
     ]
    }
   ],
   "source": [
    "model = keras.Sequential([\n",
    "    layers.Input(shape=(63,)),\n",
    "    layers.Dense(128, activation='relu'),\n",
    "    layers.Dropout(0.2),\n",
    "    layers.Dense(64, activation='relu'),\n",
    "    layers.Dropout(0.2),\n",
    "    layers.Dense(len(sorted_cats), activation='softmax')\n",
    "])\n",
    "\n",
    "model.compile(optimizer='adam', loss='sparse_categorical_crossentropy', metrics=['accuracy'])\n",
    "\n",
    "model.summary()"
   ]
  },
  {
   "cell_type": "markdown",
   "id": "9d7f6ae0-8616-4969-aecc-42fce5a20b26",
   "metadata": {},
   "source": [
    "## CNN model"
   ]
  },
  {
   "cell_type": "code",
   "execution_count": 167,
   "id": "e435e1db-89d0-41ca-ae05-25a07e24536f",
   "metadata": {},
   "outputs": [
    {
     "name": "stdout",
     "output_type": "stream",
     "text": [
      "Model: \"sequential_5\"\n",
      "_________________________________________________________________\n",
      " Layer (type)                Output Shape              Param #   \n",
      "=================================================================\n",
      " lambda (Lambda)             (None, 63, 1)             0         \n",
      "                                                                 \n",
      " conv1d_5 (Conv1D)           (None, 61, 4)             16        \n",
      "                                                                 \n",
      " flatten_2 (Flatten)         (None, 244)               0         \n",
      "                                                                 \n",
      " dense_15 (Dense)            (None, 128)               31360     \n",
      "                                                                 \n",
      " dropout_10 (Dropout)        (None, 128)               0         \n",
      "                                                                 \n",
      " dense_16 (Dense)            (None, 64)                8256      \n",
      "                                                                 \n",
      " dropout_11 (Dropout)        (None, 64)                0         \n",
      "                                                                 \n",
      " dense_17 (Dense)            (None, 33)                2145      \n",
      "                                                                 \n",
      "=================================================================\n",
      "Total params: 41777 (163.19 KB)\n",
      "Trainable params: 41777 (163.19 KB)\n",
      "Non-trainable params: 0 (0.00 Byte)\n",
      "_________________________________________________________________\n"
     ]
    }
   ],
   "source": [
    "model = keras.Sequential([\n",
    "    layers.Input(shape=(63,)),\n",
    "    layers.Lambda(lambda x: keras.backend.expand_dims(x, axis=-1)),\n",
    "    layers.Conv1D(4, 3, activation='relu'),\n",
    "    layers.Flatten(),\n",
    "    layers.Dense(128, activation='relu'),\n",
    "    layers.Dropout(0.2),\n",
    "    layers.Dense(64, activation='relu'),\n",
    "    layers.Dropout(0.2),\n",
    "    layers.Dense(len(sorted_cats), activation='softmax')\n",
    "])\n",
    "\n",
    "model.compile(optimizer='adam', loss='sparse_categorical_crossentropy', metrics=['accuracy'])\n",
    "\n",
    "model.summary()"
   ]
  },
  {
   "cell_type": "code",
   "execution_count": 171,
   "id": "bb7f4258-6e19-42f3-8b48-884c66cab4c4",
   "metadata": {},
   "outputs": [
    {
     "name": "stdout",
     "output_type": "stream",
     "text": [
      "Epoch 1/30\n",
      "7/7 - 0s - loss: 0.7167 - accuracy: 0.7592 - val_loss: 0.4637 - val_accuracy: 0.8774 - 311ms/epoch - 44ms/step\n",
      "Epoch 2/30\n",
      "7/7 - 0s - loss: 0.6698 - accuracy: 0.7661 - val_loss: 0.4582 - val_accuracy: 0.8900 - 296ms/epoch - 42ms/step\n",
      "Epoch 3/30\n",
      "7/7 - 0s - loss: 0.6903 - accuracy: 0.7459 - val_loss: 0.4560 - val_accuracy: 0.8957 - 294ms/epoch - 42ms/step\n",
      "Epoch 4/30\n",
      "7/7 - 0s - loss: 0.6841 - accuracy: 0.7668 - val_loss: 0.4745 - val_accuracy: 0.8666 - 318ms/epoch - 45ms/step\n",
      "Epoch 5/30\n",
      "7/7 - 0s - loss: 0.6732 - accuracy: 0.7649 - val_loss: 0.4449 - val_accuracy: 0.8938 - 297ms/epoch - 42ms/step\n",
      "Epoch 6/30\n",
      "7/7 - 0s - loss: 0.6611 - accuracy: 0.7693 - val_loss: 0.4405 - val_accuracy: 0.8919 - 271ms/epoch - 39ms/step\n",
      "Epoch 7/30\n",
      "7/7 - 0s - loss: 0.6823 - accuracy: 0.7566 - val_loss: 0.4480 - val_accuracy: 0.8729 - 290ms/epoch - 41ms/step\n",
      "Epoch 8/30\n",
      "7/7 - 0s - loss: 0.6376 - accuracy: 0.7794 - val_loss: 0.4373 - val_accuracy: 0.8818 - 274ms/epoch - 39ms/step\n",
      "Epoch 9/30\n",
      "7/7 - 0s - loss: 0.6756 - accuracy: 0.7573 - val_loss: 0.4301 - val_accuracy: 0.8925 - 293ms/epoch - 42ms/step\n",
      "Epoch 10/30\n",
      "7/7 - 0s - loss: 0.6541 - accuracy: 0.7762 - val_loss: 0.4374 - val_accuracy: 0.8951 - 290ms/epoch - 41ms/step\n",
      "Epoch 11/30\n",
      "7/7 - 0s - loss: 0.6580 - accuracy: 0.7724 - val_loss: 0.4458 - val_accuracy: 0.8824 - 285ms/epoch - 41ms/step\n",
      "Epoch 12/30\n",
      "7/7 - 0s - loss: 0.6870 - accuracy: 0.7623 - val_loss: 0.4304 - val_accuracy: 0.8894 - 289ms/epoch - 41ms/step\n",
      "Epoch 13/30\n",
      "7/7 - 0s - loss: 0.6436 - accuracy: 0.7762 - val_loss: 0.4197 - val_accuracy: 0.9027 - 274ms/epoch - 39ms/step\n",
      "Epoch 14/30\n",
      "7/7 - 0s - loss: 0.6156 - accuracy: 0.7908 - val_loss: 0.4230 - val_accuracy: 0.8850 - 276ms/epoch - 39ms/step\n",
      "Epoch 15/30\n",
      "7/7 - 0s - loss: 0.6651 - accuracy: 0.7680 - val_loss: 0.4362 - val_accuracy: 0.8729 - 283ms/epoch - 40ms/step\n",
      "Epoch 16/30\n",
      "7/7 - 0s - loss: 0.6243 - accuracy: 0.7813 - val_loss: 0.4365 - val_accuracy: 0.8748 - 285ms/epoch - 41ms/step\n",
      "Epoch 17/30\n",
      "7/7 - 0s - loss: 0.6528 - accuracy: 0.7718 - val_loss: 0.4236 - val_accuracy: 0.8919 - 286ms/epoch - 41ms/step\n",
      "Epoch 18/30\n",
      "7/7 - 0s - loss: 0.6705 - accuracy: 0.7592 - val_loss: 0.4340 - val_accuracy: 0.8913 - 345ms/epoch - 49ms/step\n",
      "Epoch 19/30\n",
      "7/7 - 0s - loss: 0.6387 - accuracy: 0.7718 - val_loss: 0.4195 - val_accuracy: 0.8957 - 285ms/epoch - 41ms/step\n",
      "Epoch 20/30\n",
      "7/7 - 0s - loss: 0.6590 - accuracy: 0.7655 - val_loss: 0.4363 - val_accuracy: 0.8729 - 285ms/epoch - 41ms/step\n",
      "Epoch 21/30\n",
      "7/7 - 0s - loss: 0.6251 - accuracy: 0.7914 - val_loss: 0.4152 - val_accuracy: 0.8957 - 273ms/epoch - 39ms/step\n",
      "Epoch 22/30\n",
      "7/7 - 0s - loss: 0.6521 - accuracy: 0.7674 - val_loss: 0.4046 - val_accuracy: 0.8951 - 276ms/epoch - 39ms/step\n",
      "Epoch 23/30\n",
      "7/7 - 0s - loss: 0.6234 - accuracy: 0.7826 - val_loss: 0.4198 - val_accuracy: 0.8812 - 280ms/epoch - 40ms/step\n",
      "Epoch 24/30\n",
      "7/7 - 0s - loss: 0.6018 - accuracy: 0.7863 - val_loss: 0.4267 - val_accuracy: 0.8780 - 281ms/epoch - 40ms/step\n",
      "Epoch 25/30\n",
      "7/7 - 0s - loss: 0.6277 - accuracy: 0.7750 - val_loss: 0.3965 - val_accuracy: 0.9008 - 288ms/epoch - 41ms/step\n",
      "Epoch 26/30\n",
      "7/7 - 0s - loss: 0.5878 - accuracy: 0.7914 - val_loss: 0.3953 - val_accuracy: 0.8881 - 281ms/epoch - 40ms/step\n",
      "Epoch 27/30\n",
      "7/7 - 0s - loss: 0.6014 - accuracy: 0.7870 - val_loss: 0.3975 - val_accuracy: 0.8995 - 275ms/epoch - 39ms/step\n",
      "Epoch 28/30\n",
      "7/7 - 0s - loss: 0.5912 - accuracy: 0.7927 - val_loss: 0.3818 - val_accuracy: 0.9109 - 278ms/epoch - 40ms/step\n",
      "Epoch 29/30\n",
      "7/7 - 0s - loss: 0.5839 - accuracy: 0.7971 - val_loss: 0.3917 - val_accuracy: 0.8881 - 288ms/epoch - 41ms/step\n",
      "Epoch 30/30\n",
      "7/7 - 0s - loss: 0.6209 - accuracy: 0.7863 - val_loss: 0.3896 - val_accuracy: 0.8932 - 326ms/epoch - 47ms/step\n",
      "CPU times: total: 34 s\n",
      "Wall time: 9.04 s\n"
     ]
    },
    {
     "data": {
      "text/plain": [
       "<keras.src.callbacks.History at 0x1d1cd78f370>"
      ]
     },
     "execution_count": 171,
     "metadata": {},
     "output_type": "execute_result"
    }
   ],
   "source": [
    "%%time\n",
    "model.fit(train_ds,\n",
    "          validation_data=valid_ds,\n",
    "          epochs=30,\n",
    "          verbose = 2)"
   ]
  },
  {
   "cell_type": "markdown",
   "id": "1e44c544-9ae7-4cae-af45-2b697ded6e3e",
   "metadata": {},
   "source": [
    "# Testing"
   ]
  },
  {
   "cell_type": "markdown",
   "id": "6ed5c8f7-96a1-4944-9d40-7f6193031ff8",
   "metadata": {},
   "source": [
    "## Util to work with video feeds using mediapipe hands"
   ]
  },
  {
   "cell_type": "code",
   "execution_count": 174,
   "id": "ca5d2630-081d-452c-9926-3b980a3ddaea",
   "metadata": {},
   "outputs": [],
   "source": [
    "WEBCAM = 0\n",
    "\n",
    "mp_drawing = mp.solutions.drawing_utils\n",
    "mp_drawing_styles = mp.solutions.drawing_styles\n",
    "mp_hands = mp.solutions.hands\n",
    "\n",
    "def video_loop_mp_hands(source, process_data_func):\n",
    "    video = cv2.VideoCapture(source)\n",
    "    display_handle=display(None, display_id=True)\n",
    "    try:\n",
    "        with mp_hands.Hands(model_complexity=1,max_num_hands=1,min_detection_confidence=0.5,min_tracking_confidence=0.5) as hands:\n",
    "            while True:\n",
    "                _, image = video.read()\n",
    "    \n",
    "                if image is None:\n",
    "                    break\n",
    "\n",
    "                image. flags.writeable = False\n",
    "                image = cv2.cvtColor(image, cv2.COLOR_BGR2RGB)\n",
    "                results = hands.process(image)\n",
    "\n",
    "                image = cv2.cvtColor(image, cv2.COLOR_RGB2BGR)\n",
    "                image = cv2.flip(image, 1)\n",
    "                if results.multi_hand_landmarks:\n",
    "                    for hand_landmarks in results.multi_hand_landmarks: # 1 hand only\n",
    "                        # Draw landmarks\n",
    "                        mp_drawing.draw_landmarks(\n",
    "                            image,\n",
    "                            hand_landmarks,\n",
    "                            mp_hands.HAND_CONNECTIONS,\n",
    "                            mp_drawing_styles.get_default_hand_landmarks_style(),\n",
    "                            mp_drawing_styles.get_default_hand_connections_style())\n",
    "        \n",
    "                        # Get bounding box for the hand\n",
    "                        lms = hand_landmarks.landmark\n",
    "                        x_coords = [lm.x for lm in lms]\n",
    "                        y_coords = [lm.y for lm in lms]\n",
    "                        min_x, max_x = int(min(x_coords) * image.shape[1]), int(max(x_coords) * image.shape[1])\n",
    "                        min_y, max_y = int(min(y_coords) * image.shape[0]), int(max(y_coords) * image.shape[0])\n",
    "\n",
    "                        image = cv2.flip(image, 1)\n",
    "                        # Draw the bounding box around the hand\n",
    "                        cv2.rectangle(image, (min_x, min_y), (max_x, max_y), (0, 255, 0), 2)  # RGB green\n",
    "                \n",
    "                        data = []\n",
    "                        for lm in lms:\n",
    "                            data.extend([lm.x, lm.y, lm.z])\n",
    "\n",
    "                        # Get prediction and probability from function\n",
    "                        pred, prob = process_data_func(data)\n",
    "\n",
    "                        image = cv2.flip(image, 1)\n",
    "                        # Display prediction and probability near the bounding box\n",
    "                        label = f\"{pred}: {prob:.2f}%\"\n",
    "                        cv2.putText(image, label, (min_x, min_y-10), cv2.FONT_HERSHEY_SIMPLEX, 0.8, (0, 0, 0), 2, cv2.LINE_AA)\n",
    "    \n",
    "                \n",
    "                _, image = cv2.imencode('.jpeg', image)\n",
    "                display_handle.update(Image(data=image.tobytes()))\n",
    "    except KeyboardInterrupt:\n",
    "        pass\n",
    "    finally:\n",
    "        video.release()\n",
    "        display_handle.update(None)"
   ]
  },
  {
   "cell_type": "markdown",
   "id": "186f1e4d-5070-4c87-840d-699e26fc472c",
   "metadata": {},
   "source": [
    "## Predict every frame model for isolated signs\n",
    "\n",
    "While this model performs well, but in certain positions and during changing poses, random predictions might happen."
   ]
  },
  {
   "cell_type": "code",
   "execution_count": 175,
   "id": "77428668-5946-4f7e-a727-b19a70df9e1f",
   "metadata": {},
   "outputs": [
    {
     "data": {
      "text/plain": [
       "None"
      ]
     },
     "metadata": {},
     "output_type": "display_data"
    }
   ],
   "source": [
    "def process_frame(frame):\n",
    "    x = preprocess_lms(frame)\n",
    "    probs = model(np.array([x]))\n",
    "    prob = np.max(probs, axis=1)[0]\n",
    "    pred = np.argmax(probs)\n",
    "    pred = num_to_cat[pred]\n",
    "    return pred, prob\n",
    "\n",
    "video_loop_mp_hands(WEBCAM, process_frame)"
   ]
  },
  {
   "cell_type": "markdown",
   "id": "89ff946c-2301-4227-8078-25375fdb1b4e",
   "metadata": {},
   "source": [
    "## Buffered model for isolated signs"
   ]
  },
  {
   "cell_type": "code",
   "execution_count": 176,
   "id": "f35040de-5194-43d5-86e4-4b139d79267b",
   "metadata": {},
   "outputs": [
    {
     "data": {
      "text/plain": [
       "None"
      ]
     },
     "metadata": {},
     "output_type": "display_data"
    }
   ],
   "source": [
    "class BufferedModel:\n",
    "    def __init__(self, model, preprocess_fn, *, confidence, buffer_size):\n",
    "        self.model = model\n",
    "        self.preprocess_fn = preprocess_fn\n",
    "        self.buffer = deque(maxlen=buffer_size)\n",
    "        self.confidence_threshold = int(buffer_size*confidence)\n",
    "        self.buffer_size = buffer_size\n",
    "\n",
    "    def process_frame(self, frame):\n",
    "        x = self.preprocess_fn(frame)\n",
    "        probs = self.model(np.array([x]))\n",
    "        prob = np.max(probs, axis=1)[0]\n",
    "        pred = np.argmax(probs)\n",
    "        \n",
    "        self.buffer.append(pred)\n",
    "        buffered_pred, count = Counter(self.buffer).most_common(1)[0]\n",
    "        if count >= self.confidence_threshold:\n",
    "            return num_to_cat[buffered_pred], count/self.buffer_size\n",
    "\n",
    "        return \"unknown\", 0.\n",
    "            \n",
    "buffered_model = BufferedModel(model, preprocess_lms, confidence=0.7, buffer_size=10)\n",
    "video_loop_mp_hands(WEBCAM, lambda data: buffered_model.process_frame(data))"
   ]
  },
  {
   "cell_type": "markdown",
   "id": "ad106ef9-75bd-4ebd-9719-0d64fc1aeb39",
   "metadata": {},
   "source": [
    "## Continuous model with signing detection\n",
    "\n",
    "For this model the mediapipe holistic model is needed, gather more pose information than simply the 2 hands."
   ]
  },
  {
   "cell_type": "markdown",
   "id": "2b4828a1-ea04-4885-8310-63eeb3e04cc1",
   "metadata": {},
   "source": [
    "### Handle mediapipe holistic model"
   ]
  },
  {
   "cell_type": "code",
   "execution_count": 193,
   "id": "b75a5056-2ead-4dd8-84e1-97f25abbcbda",
   "metadata": {},
   "outputs": [],
   "source": [
    "mp_pose = mp.solutions.pose\n",
    "mp_hands = mp.solutions.hands\n",
    "mp_holistic = mp.solutions.holistic\n",
    "mp_drawing = mp.solutions.drawing_utils \n",
    "mp_drawing_styles = mp.solutions.drawing_styles\n",
    "\n",
    "def draw_landmarks_on_image(image, results):\n",
    "    image.flags.writeable = True\n",
    "    image = cv2.cvtColor(image, cv2.COLOR_RGB2BGR)\n",
    "    mp_drawing.draw_landmarks(\n",
    "        image,\n",
    "        results.face_landmarks,\n",
    "        mp_holistic.FACEMESH_CONTOURS,\n",
    "        landmark_drawing_spec=None,\n",
    "        connection_drawing_spec=mp_drawing_styles\n",
    "        .get_default_face_mesh_contours_style())\n",
    "    mp_drawing.draw_landmarks(\n",
    "        image,\n",
    "        results.pose_landmarks,\n",
    "        mp_holistic.POSE_CONNECTIONS,\n",
    "        landmark_drawing_spec=mp_drawing_styles\n",
    "        .get_default_pose_landmarks_style())\n",
    "    mp_drawing.draw_landmarks(\n",
    "        image,\n",
    "        results.left_hand_landmarks,\n",
    "        mp_holistic.HAND_CONNECTIONS,\n",
    "        landmark_drawing_spec=mp_drawing_styles.get_default_hand_landmarks_style()\n",
    "    )\n",
    "    mp_drawing.draw_landmarks(\n",
    "        image,\n",
    "        results.right_hand_landmarks,\n",
    "        mp_holistic.HAND_CONNECTIONS,\n",
    "        landmark_drawing_spec=mp_drawing_styles.get_default_hand_landmarks_style()\n",
    "    )\n",
    "    return image\n",
    "\n",
    "def video_loop_mp_holistics(source, process_data_func):\n",
    "    video = cv2.VideoCapture(source)\n",
    "    display_handle=display(None, display_id=True)\n",
    "    try:\n",
    "        with mp_holistic.Holistic(min_detection_confidence=0.5,min_tracking_confidence=0.5) as holistic:\n",
    "            while True:\n",
    "                _, frame = video.read()\n",
    "    \n",
    "                if frame is None:\n",
    "                    break\n",
    "    \n",
    "                #image = cv2.resize(frame, (360, 240))\n",
    "                image=frame\n",
    "    \n",
    "                # To improve performance, optionally mark the image as not writeable to pass by reference.\n",
    "                image.flags.writeable = False\n",
    "                image = cv2.cvtColor(image, cv2.COLOR_BGR2RGB)\n",
    "                results = holistic.process(image)\n",
    "\n",
    "                # Run the model\n",
    "                process_data_func(results)\n",
    "    \n",
    "                # Draw landmark annotation on the image.\n",
    "                image = draw_landmarks_on_image(image, results)\n",
    "    \n",
    "                image = cv2.flip(image, 1)\n",
    "                _, image = cv2.imencode('.jpeg', image)\n",
    "                display_handle.update(Image(data=image.tobytes()))\n",
    "    except KeyboardInterrupt:\n",
    "        pass\n",
    "    finally:\n",
    "        video.release()\n",
    "        display_handle.update(None)"
   ]
  },
  {
   "cell_type": "markdown",
   "id": "db30f2fc-0094-4072-bc11-04c416c314b3",
   "metadata": {},
   "source": [
    "### Signing detection model"
   ]
  },
  {
   "cell_type": "code",
   "execution_count": 194,
   "id": "18a82240-bb7a-4bb7-9cc4-ad7bc3eccb68",
   "metadata": {},
   "outputs": [],
   "source": [
    "# Pose coordinates for hand movement.\n",
    "LPOSE = [13, 15, 17, 19, 21]\n",
    "RPOSE = [14, 16, 18, 20, 22]\n",
    "POSE = LPOSE + RPOSE\n",
    "\n",
    "def extract_for_signing_detection(res):\n",
    "    # Extract specific pose landmarks if available\n",
    "    px = []\n",
    "    py = []\n",
    "    pz = []\n",
    "    if res.pose_landmarks:\n",
    "        for i in POSE:\n",
    "            lm = res.pose_landmarks.landmark[i]\n",
    "            px.append(lm.x)\n",
    "            py.append(lm.y)\n",
    "            pz.append(lm.z)\n",
    "    else:\n",
    "        px = [0.0]*len(POSE)\n",
    "        py = [0.0]*len(POSE)\n",
    "        pz = [0.0]*len(POSE)\n",
    "\n",
    "    # Extract left hand landmarks if available\n",
    "    lx = []\n",
    "    ly = []\n",
    "    lz = []\n",
    "    if res.left_hand_landmarks:\n",
    "        for lm in res.left_hand_landmarks.landmark:\n",
    "            lx.append(lm.x)\n",
    "            ly.append(lm.y)\n",
    "            lz.append(lm.z)\n",
    "    else:\n",
    "        lx = [0.0]*21\n",
    "        ly = [0.0]*21\n",
    "        lz = [0.0]*21\n",
    "\n",
    "    # Extract right hand landmarks if available\n",
    "    rx = []\n",
    "    ry = []\n",
    "    rz = []\n",
    "    if res.right_hand_landmarks:\n",
    "        for lm in res.right_hand_landmarks.landmark:\n",
    "            rx.append(lm.x)\n",
    "            ry.append(lm.y)\n",
    "            rz.append(lm.z)\n",
    "    else:\n",
    "        rx = [0.0]*21\n",
    "        ry = [0.0]*21\n",
    "        rz = [0.0]*21\n",
    "\n",
    "    return list(chain(rx, lx, px, ry, ly, py, rz, lz, pz))\n",
    "\n",
    "# Only load once\n",
    "signing_detection_model = tf.saved_model.load(\"signing_detection_model\")\n",
    "\n",
    "class SigningDetectionModel:\n",
    "    def __init__(self):\n",
    "        self.signing_detection_model_input = list(np.zeros((15, 156)))\n",
    "\n",
    "    def is_signing(self, inp_lm):\n",
    "        self.signing_detection_model_input.pop(0)\n",
    "        self.signing_detection_model_input.append(inp_lm)\n",
    "        return signing_detection_model.predict(self.signing_detection_model_input)[\"result\"].numpy() == 1\n",
    "\n",
    "class BufferedSigningDetectionModel:\n",
    "    def __init__(self, buffer_len=5, confidence_number=3):\n",
    "        self.signing_detection_model_input = list(np.zeros((15, 156)))\n",
    "        self.signing_detector_buffer = deque(maxlen=buffer_len)\n",
    "        self.confidence_number = confidence_number \n",
    "\n",
    "    def is_signing(self, inp_lm):\n",
    "        self.signing_detection_model_input.pop(0)\n",
    "        self.signing_detection_model_input.append(inp_lm)\n",
    "        pred = signing_detection_model.predict(self.signing_detection_model_input)[\"result\"].numpy()\n",
    "        self.signing_detector_buffer.append(pred)\n",
    "        buffered_pred, count = Counter(self.signing_detector_buffer).most_common(1)[0]\n",
    "        if count >= self.confidence_number:\n",
    "            return buffered_pred == 1\n",
    "        else:\n",
    "            return False"
   ]
  },
  {
   "cell_type": "code",
   "execution_count": 199,
   "id": "6e3b3560-61fa-4467-b847-ac264bbfd41c",
   "metadata": {},
   "outputs": [
    {
     "data": {
      "text/plain": [
       "None"
      ]
     },
     "metadata": {},
     "output_type": "display_data"
    },
    {
     "name": "stdout",
     "output_type": "stream",
     "text": [
      "--------------------------------------------------------------------------*******a****************************b*****************************c****************************************l***********************************************r*************************************g****************************************-------------------------------------------------------------------------------------------------------------------------------------------------------------*******h***********************************5****************b*****************************t**********-------*t********y********************************t****************************y*********************t*******************y**************------------------------------"
     ]
    }
   ],
   "source": [
    "def extract_for_static_fingerspelling(res):\n",
    "    # Extract right hand landmarks if available\n",
    "    data = []\n",
    "    if res.right_hand_landmarks:\n",
    "        for lm in res.right_hand_landmarks.landmark:\n",
    "            data.append(lm.x)\n",
    "            data.append(lm.y)\n",
    "            data.append(lm.z)\n",
    "    elif res.left_hand_landmarks:\n",
    "        for lm in res.left_hand_landmarks.landmark:\n",
    "            data.append(lm.x)\n",
    "            data.append(lm.y)\n",
    "            data.append(lm.z)\n",
    "    else:\n",
    "        data = [0.0]*63\n",
    "        \n",
    "    return data\n",
    "\n",
    "class ContinuousModelWithSigningDetection:\n",
    "    def __init__(self):\n",
    "        self.signing_detection_model = BufferedSigningDetectionModel()\n",
    "        self.buffered_model = BufferedModel(model, preprocess_lms, confidence=0.7, buffer_size=10)\n",
    "        self.last_pred = None\n",
    "\n",
    "    def process_result(self, mp_result):\n",
    "        sd_inp = extract_for_signing_detection(mp_result)\n",
    "        if self.signing_detection_model.is_signing(sd_inp):\n",
    "            print(\"*\", end=\"\")\n",
    "            pred, prob = self.buffered_model.process_frame(extract_for_static_fingerspelling(mp_result))\n",
    "            if self.last_pred != pred and pred != \"unknown\":\n",
    "                self.last_pred = pred\n",
    "                print(pred, end=\"\")\n",
    "                return\n",
    "        else:\n",
    "            print(\"-\", end=\"\")\n",
    "            self.last_pred = None\n",
    "\n",
    "m = ContinuousModelWithSigningDetection()\n",
    "\n",
    "video_loop_mp_holistics(WEBCAM, lambda mp_res: m.process_result(mp_res))"
   ]
  },
  {
   "cell_type": "markdown",
   "id": "7f23b0a9-6740-4cf9-8b9b-b0c110054402",
   "metadata": {},
   "source": [
    "### LLm improvement"
   ]
  },
  {
   "cell_type": "code",
   "execution_count": 204,
   "id": "c5950366-bc33-4f10-be08-a7a45c32cc7e",
   "metadata": {},
   "outputs": [],
   "source": [
    "key = os.environ.get('OPEN_AI_API_KEY')\n",
    "if key is not None:\n",
    "    openai.api_key = key\n",
    "else:\n",
    "    print(\"Error: Please set a valid api key!\")"
   ]
  },
  {
   "cell_type": "code",
   "execution_count": 205,
   "id": "e3c5857a-28d1-4ca1-8c26-2edd21631e6c",
   "metadata": {},
   "outputs": [],
   "source": [
    "def correct_output(pred):\n",
    "    completion = openai.ChatCompletion.create(\n",
    "      model=\"gpt-3.5-turbo\", \n",
    "       messages=[\n",
    "        {\"role\": \"system\", \"content\": \"You are a machine that tries to correct the output of a fingerspelling recognition model. Some letters might be missing, but it's also possible that the given text has extra characters. The model will always give i instead of j and z also doesn't work. Only reply the corrected text.\"},\n",
    "        {\"role\": \"user\", \"content\": \"lebra\"},\n",
    "        {\"role\": \"system\", \"content\": \"zebra\"},\n",
    "        {\"role\": \"user\", \"content\": \"beark\"},\n",
    "        {\"role\": \"system\", \"content\": \"bear\"},\n",
    "        {\"role\": \"user\", \"content\": \"iagudar\"},\n",
    "        {\"role\": \"system\", \"content\": \"jaguar\"},\n",
    "        {\"role\": \"user\", \"content\": pred},\n",
    "      ]\n",
    "    )\n",
    "    \n",
    "    return completion[\"choices\"][0][\"message\"][\"content\"]"
   ]
  },
  {
   "cell_type": "code",
   "execution_count": 208,
   "id": "641c1938-9efc-41c3-8b71-dbedf0c39978",
   "metadata": {},
   "outputs": [
    {
     "data": {
      "text/plain": [
       "'jackal'"
      ]
     },
     "execution_count": 208,
     "metadata": {},
     "output_type": "execute_result"
    }
   ],
   "source": [
    "correct_output(\"iackdl\")"
   ]
  },
  {
   "cell_type": "code",
   "execution_count": 209,
   "id": "aff9f1c4-3bec-45d8-87ac-6e5f53f49410",
   "metadata": {},
   "outputs": [
    {
     "data": {
      "text/plain": [
       "'zoom'"
      ]
     },
     "execution_count": 209,
     "metadata": {},
     "output_type": "execute_result"
    }
   ],
   "source": [
    "correct_output(\"loom\") # what happens if both are acceptable"
   ]
  },
  {
   "cell_type": "code",
   "execution_count": null,
   "id": "06832236-1f73-4787-96b8-8087a66ce314",
   "metadata": {},
   "outputs": [],
   "source": []
  }
 ],
 "metadata": {
  "kernelspec": {
   "display_name": "Python 3 (ipykernel)",
   "language": "python",
   "name": "python3"
  },
  "language_info": {
   "codemirror_mode": {
    "name": "ipython",
    "version": 3
   },
   "file_extension": ".py",
   "mimetype": "text/x-python",
   "name": "python",
   "nbconvert_exporter": "python",
   "pygments_lexer": "ipython3",
   "version": "3.9.13"
  }
 },
 "nbformat": 4,
 "nbformat_minor": 5
}
